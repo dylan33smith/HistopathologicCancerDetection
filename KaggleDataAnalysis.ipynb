{
  "nbformat": 4,
  "nbformat_minor": 0,
  "metadata": {
    "colab": {
      "provenance": [],
      "authorship_tag": "ABX9TyO70ETTGmMvbCRb31xLEbEJ",
      "include_colab_link": true
    },
    "kernelspec": {
      "name": "python3",
      "display_name": "Python 3"
    },
    "language_info": {
      "name": "python"
    }
  },
  "cells": [
    {
      "cell_type": "markdown",
      "metadata": {
        "id": "view-in-github",
        "colab_type": "text"
      },
      "source": [
        "<a href=\"https://colab.research.google.com/github/dylan33smith/HistopathologicCancerDetection/blob/main/KaggleDataAnalysis.ipynb\" target=\"_parent\"><img src=\"https://colab.research.google.com/assets/colab-badge.svg\" alt=\"Open In Colab\"/></a>"
      ]
    },
    {
      "cell_type": "markdown",
      "source": [
        "# Dylan Smith\n",
        "## CSPB 3202: Fall 2023\n",
        "## Homework 5: Kaggle Competition"
      ],
      "metadata": {
        "id": "7QIoPRyWvZPK"
      }
    },
    {
      "cell_type": "code",
      "execution_count": 8,
      "metadata": {
        "id": "oLyDVRz-pXBo"
      },
      "outputs": [],
      "source": [
        "from google.colab import files\n"
      ]
    },
    {
      "cell_type": "code",
      "source": [
        "uploaded = files.upload()\n",
        "!mkdir -p ~/.kaggle\n",
        "!mv kaggle.json ~/.kaggle/\n",
        "!chmod 600 ~/.kaggle/kaggle.json"
      ],
      "metadata": {
        "colab": {
          "base_uri": "https://localhost:8080/",
          "height": 73
        },
        "id": "FBxrzHpxpl0g",
        "outputId": "55d3fa41-6872-4b63-fabf-56c9a8d14b3b"
      },
      "execution_count": 9,
      "outputs": [
        {
          "output_type": "display_data",
          "data": {
            "text/plain": [
              "<IPython.core.display.HTML object>"
            ],
            "text/html": [
              "\n",
              "     <input type=\"file\" id=\"files-0624d4ad-df6d-4dc7-87df-6a42578a3d7f\" name=\"files[]\" multiple disabled\n",
              "        style=\"border:none\" />\n",
              "     <output id=\"result-0624d4ad-df6d-4dc7-87df-6a42578a3d7f\">\n",
              "      Upload widget is only available when the cell has been executed in the\n",
              "      current browser session. Please rerun this cell to enable.\n",
              "      </output>\n",
              "      <script>// Copyright 2017 Google LLC\n",
              "//\n",
              "// Licensed under the Apache License, Version 2.0 (the \"License\");\n",
              "// you may not use this file except in compliance with the License.\n",
              "// You may obtain a copy of the License at\n",
              "//\n",
              "//      http://www.apache.org/licenses/LICENSE-2.0\n",
              "//\n",
              "// Unless required by applicable law or agreed to in writing, software\n",
              "// distributed under the License is distributed on an \"AS IS\" BASIS,\n",
              "// WITHOUT WARRANTIES OR CONDITIONS OF ANY KIND, either express or implied.\n",
              "// See the License for the specific language governing permissions and\n",
              "// limitations under the License.\n",
              "\n",
              "/**\n",
              " * @fileoverview Helpers for google.colab Python module.\n",
              " */\n",
              "(function(scope) {\n",
              "function span(text, styleAttributes = {}) {\n",
              "  const element = document.createElement('span');\n",
              "  element.textContent = text;\n",
              "  for (const key of Object.keys(styleAttributes)) {\n",
              "    element.style[key] = styleAttributes[key];\n",
              "  }\n",
              "  return element;\n",
              "}\n",
              "\n",
              "// Max number of bytes which will be uploaded at a time.\n",
              "const MAX_PAYLOAD_SIZE = 100 * 1024;\n",
              "\n",
              "function _uploadFiles(inputId, outputId) {\n",
              "  const steps = uploadFilesStep(inputId, outputId);\n",
              "  const outputElement = document.getElementById(outputId);\n",
              "  // Cache steps on the outputElement to make it available for the next call\n",
              "  // to uploadFilesContinue from Python.\n",
              "  outputElement.steps = steps;\n",
              "\n",
              "  return _uploadFilesContinue(outputId);\n",
              "}\n",
              "\n",
              "// This is roughly an async generator (not supported in the browser yet),\n",
              "// where there are multiple asynchronous steps and the Python side is going\n",
              "// to poll for completion of each step.\n",
              "// This uses a Promise to block the python side on completion of each step,\n",
              "// then passes the result of the previous step as the input to the next step.\n",
              "function _uploadFilesContinue(outputId) {\n",
              "  const outputElement = document.getElementById(outputId);\n",
              "  const steps = outputElement.steps;\n",
              "\n",
              "  const next = steps.next(outputElement.lastPromiseValue);\n",
              "  return Promise.resolve(next.value.promise).then((value) => {\n",
              "    // Cache the last promise value to make it available to the next\n",
              "    // step of the generator.\n",
              "    outputElement.lastPromiseValue = value;\n",
              "    return next.value.response;\n",
              "  });\n",
              "}\n",
              "\n",
              "/**\n",
              " * Generator function which is called between each async step of the upload\n",
              " * process.\n",
              " * @param {string} inputId Element ID of the input file picker element.\n",
              " * @param {string} outputId Element ID of the output display.\n",
              " * @return {!Iterable<!Object>} Iterable of next steps.\n",
              " */\n",
              "function* uploadFilesStep(inputId, outputId) {\n",
              "  const inputElement = document.getElementById(inputId);\n",
              "  inputElement.disabled = false;\n",
              "\n",
              "  const outputElement = document.getElementById(outputId);\n",
              "  outputElement.innerHTML = '';\n",
              "\n",
              "  const pickedPromise = new Promise((resolve) => {\n",
              "    inputElement.addEventListener('change', (e) => {\n",
              "      resolve(e.target.files);\n",
              "    });\n",
              "  });\n",
              "\n",
              "  const cancel = document.createElement('button');\n",
              "  inputElement.parentElement.appendChild(cancel);\n",
              "  cancel.textContent = 'Cancel upload';\n",
              "  const cancelPromise = new Promise((resolve) => {\n",
              "    cancel.onclick = () => {\n",
              "      resolve(null);\n",
              "    };\n",
              "  });\n",
              "\n",
              "  // Wait for the user to pick the files.\n",
              "  const files = yield {\n",
              "    promise: Promise.race([pickedPromise, cancelPromise]),\n",
              "    response: {\n",
              "      action: 'starting',\n",
              "    }\n",
              "  };\n",
              "\n",
              "  cancel.remove();\n",
              "\n",
              "  // Disable the input element since further picks are not allowed.\n",
              "  inputElement.disabled = true;\n",
              "\n",
              "  if (!files) {\n",
              "    return {\n",
              "      response: {\n",
              "        action: 'complete',\n",
              "      }\n",
              "    };\n",
              "  }\n",
              "\n",
              "  for (const file of files) {\n",
              "    const li = document.createElement('li');\n",
              "    li.append(span(file.name, {fontWeight: 'bold'}));\n",
              "    li.append(span(\n",
              "        `(${file.type || 'n/a'}) - ${file.size} bytes, ` +\n",
              "        `last modified: ${\n",
              "            file.lastModifiedDate ? file.lastModifiedDate.toLocaleDateString() :\n",
              "                                    'n/a'} - `));\n",
              "    const percent = span('0% done');\n",
              "    li.appendChild(percent);\n",
              "\n",
              "    outputElement.appendChild(li);\n",
              "\n",
              "    const fileDataPromise = new Promise((resolve) => {\n",
              "      const reader = new FileReader();\n",
              "      reader.onload = (e) => {\n",
              "        resolve(e.target.result);\n",
              "      };\n",
              "      reader.readAsArrayBuffer(file);\n",
              "    });\n",
              "    // Wait for the data to be ready.\n",
              "    let fileData = yield {\n",
              "      promise: fileDataPromise,\n",
              "      response: {\n",
              "        action: 'continue',\n",
              "      }\n",
              "    };\n",
              "\n",
              "    // Use a chunked sending to avoid message size limits. See b/62115660.\n",
              "    let position = 0;\n",
              "    do {\n",
              "      const length = Math.min(fileData.byteLength - position, MAX_PAYLOAD_SIZE);\n",
              "      const chunk = new Uint8Array(fileData, position, length);\n",
              "      position += length;\n",
              "\n",
              "      const base64 = btoa(String.fromCharCode.apply(null, chunk));\n",
              "      yield {\n",
              "        response: {\n",
              "          action: 'append',\n",
              "          file: file.name,\n",
              "          data: base64,\n",
              "        },\n",
              "      };\n",
              "\n",
              "      let percentDone = fileData.byteLength === 0 ?\n",
              "          100 :\n",
              "          Math.round((position / fileData.byteLength) * 100);\n",
              "      percent.textContent = `${percentDone}% done`;\n",
              "\n",
              "    } while (position < fileData.byteLength);\n",
              "  }\n",
              "\n",
              "  // All done.\n",
              "  yield {\n",
              "    response: {\n",
              "      action: 'complete',\n",
              "    }\n",
              "  };\n",
              "}\n",
              "\n",
              "scope.google = scope.google || {};\n",
              "scope.google.colab = scope.google.colab || {};\n",
              "scope.google.colab._files = {\n",
              "  _uploadFiles,\n",
              "  _uploadFilesContinue,\n",
              "};\n",
              "})(self);\n",
              "</script> "
            ]
          },
          "metadata": {}
        },
        {
          "output_type": "stream",
          "name": "stdout",
          "text": [
            "Saving kaggle.json to kaggle.json\n"
          ]
        }
      ]
    },
    {
      "cell_type": "code",
      "source": [
        "!kaggle competitions download -c histopathologic-cancer-detection"
      ],
      "metadata": {
        "colab": {
          "base_uri": "https://localhost:8080/"
        },
        "id": "ONz_n8Ykp93w",
        "outputId": "ad17901d-429e-4beb-8ee4-88b27b57f3ba"
      },
      "execution_count": 10,
      "outputs": [
        {
          "output_type": "stream",
          "name": "stdout",
          "text": [
            "Downloading histopathologic-cancer-detection.zip to /content\n",
            "100% 6.29G/6.31G [01:15<00:00, 140MB/s]\n",
            "100% 6.31G/6.31G [01:15<00:00, 89.7MB/s]\n"
          ]
        }
      ]
    },
    {
      "cell_type": "code",
      "source": [
        "import zipfile"
      ],
      "metadata": {
        "id": "oRLajlKlqebC"
      },
      "execution_count": 11,
      "outputs": []
    },
    {
      "cell_type": "code",
      "source": [
        "with zipfile.ZipFile('/content/histopathologic-cancer-detection.zip','r') as zip_ref:\n",
        "  zip_ref.extractall('content/histopathologic_dataset')"
      ],
      "metadata": {
        "id": "WEp053SvrdCf"
      },
      "execution_count": 12,
      "outputs": []
    },
    {
      "cell_type": "markdown",
      "source": [
        "(1m 43s) to complete"
      ],
      "metadata": {
        "id": "K3ttdhWgrbyz"
      }
    },
    {
      "cell_type": "code",
      "source": [
        "!pip install h5py"
      ],
      "metadata": {
        "id": "wYE2icni05cI"
      },
      "execution_count": null,
      "outputs": []
    },
    {
      "cell_type": "code",
      "source": [
        "!pip install pandas\n",
        "!pip install numpy==1.24.3\n",
        "!pip install scikit-learn"
      ],
      "metadata": {
        "id": "lM7sHz3itEIh"
      },
      "execution_count": null,
      "outputs": []
    },
    {
      "cell_type": "code",
      "source": [
        "!pip install tensorflow\n"
      ],
      "metadata": {
        "id": "g5BQCuaVx0ig"
      },
      "execution_count": null,
      "outputs": []
    },
    {
      "cell_type": "markdown",
      "source": [
        "# Histopathic Cancer Detection\n",
        "\n",
        "Create an algorithm to identify metastatic cancer in small image patches taken from larger digital pathology scans\n",
        "\n"
      ],
      "metadata": {
        "id": "IhKCSbZgstIG"
      }
    },
    {
      "cell_type": "code",
      "source": [
        "import os\n",
        "import random\n",
        "import cv2\n",
        "from PIL import Image\n",
        "import numpy as np\n",
        "import pandas as pd\n",
        "import matplotlib.pyplot as plt\n",
        "import matplotlib.patches as patches\n",
        "from sklearn.model_selection import train_test_split\n",
        "\n",
        "import tensorflow as tf\n",
        "from keras.models import Sequential\n",
        "from keras.layers import Conv2D, Dense, Dropout, Flatten, MaxPooling2D\n",
        "from keras.optimizers import Adam\n",
        "\n",
        "import h5py"
      ],
      "metadata": {
        "id": "34rnuVEdrsno"
      },
      "execution_count": 1,
      "outputs": []
    },
    {
      "cell_type": "code",
      "source": [
        "train_df = pd.read_csv('./content/histopathologic_dataset/train_labels.csv')\n",
        "# This is a df of the image id and it's associated pos/neg label (for training images)\n",
        "train_df.head()\n",
        "# shape: (220025, 2)"
      ],
      "metadata": {
        "colab": {
          "base_uri": "https://localhost:8080/",
          "height": 206
        },
        "id": "KaPAfU40xps1",
        "outputId": "f742c90e-b93f-4b60-ad5e-2fc8c6940396"
      },
      "execution_count": 2,
      "outputs": [
        {
          "output_type": "execute_result",
          "data": {
            "text/plain": [
              "                                         id  label\n",
              "0  f38a6374c348f90b587e046aac6079959adf3835      0\n",
              "1  c18f2d887b7ae4f6742ee445113fa1aef383ed77      1\n",
              "2  755db6279dae599ebb4d39a9123cce439965282d      0\n",
              "3  bc3f0c64fb968ff4a8bd33af6971ecae77c75e08      0\n",
              "4  068aba587a4950175d04c680d38943fd488d6a9d      0"
            ],
            "text/html": [
              "\n",
              "  <div id=\"df-d7d9edf9-fcdc-42bf-a2e9-518d5e01f48a\" class=\"colab-df-container\">\n",
              "    <div>\n",
              "<style scoped>\n",
              "    .dataframe tbody tr th:only-of-type {\n",
              "        vertical-align: middle;\n",
              "    }\n",
              "\n",
              "    .dataframe tbody tr th {\n",
              "        vertical-align: top;\n",
              "    }\n",
              "\n",
              "    .dataframe thead th {\n",
              "        text-align: right;\n",
              "    }\n",
              "</style>\n",
              "<table border=\"1\" class=\"dataframe\">\n",
              "  <thead>\n",
              "    <tr style=\"text-align: right;\">\n",
              "      <th></th>\n",
              "      <th>id</th>\n",
              "      <th>label</th>\n",
              "    </tr>\n",
              "  </thead>\n",
              "  <tbody>\n",
              "    <tr>\n",
              "      <th>0</th>\n",
              "      <td>f38a6374c348f90b587e046aac6079959adf3835</td>\n",
              "      <td>0</td>\n",
              "    </tr>\n",
              "    <tr>\n",
              "      <th>1</th>\n",
              "      <td>c18f2d887b7ae4f6742ee445113fa1aef383ed77</td>\n",
              "      <td>1</td>\n",
              "    </tr>\n",
              "    <tr>\n",
              "      <th>2</th>\n",
              "      <td>755db6279dae599ebb4d39a9123cce439965282d</td>\n",
              "      <td>0</td>\n",
              "    </tr>\n",
              "    <tr>\n",
              "      <th>3</th>\n",
              "      <td>bc3f0c64fb968ff4a8bd33af6971ecae77c75e08</td>\n",
              "      <td>0</td>\n",
              "    </tr>\n",
              "    <tr>\n",
              "      <th>4</th>\n",
              "      <td>068aba587a4950175d04c680d38943fd488d6a9d</td>\n",
              "      <td>0</td>\n",
              "    </tr>\n",
              "  </tbody>\n",
              "</table>\n",
              "</div>\n",
              "    <div class=\"colab-df-buttons\">\n",
              "\n",
              "  <div class=\"colab-df-container\">\n",
              "    <button class=\"colab-df-convert\" onclick=\"convertToInteractive('df-d7d9edf9-fcdc-42bf-a2e9-518d5e01f48a')\"\n",
              "            title=\"Convert this dataframe to an interactive table.\"\n",
              "            style=\"display:none;\">\n",
              "\n",
              "  <svg xmlns=\"http://www.w3.org/2000/svg\" height=\"24px\" viewBox=\"0 -960 960 960\">\n",
              "    <path d=\"M120-120v-720h720v720H120Zm60-500h600v-160H180v160Zm220 220h160v-160H400v160Zm0 220h160v-160H400v160ZM180-400h160v-160H180v160Zm440 0h160v-160H620v160ZM180-180h160v-160H180v160Zm440 0h160v-160H620v160Z\"/>\n",
              "  </svg>\n",
              "    </button>\n",
              "\n",
              "  <style>\n",
              "    .colab-df-container {\n",
              "      display:flex;\n",
              "      gap: 12px;\n",
              "    }\n",
              "\n",
              "    .colab-df-convert {\n",
              "      background-color: #E8F0FE;\n",
              "      border: none;\n",
              "      border-radius: 50%;\n",
              "      cursor: pointer;\n",
              "      display: none;\n",
              "      fill: #1967D2;\n",
              "      height: 32px;\n",
              "      padding: 0 0 0 0;\n",
              "      width: 32px;\n",
              "    }\n",
              "\n",
              "    .colab-df-convert:hover {\n",
              "      background-color: #E2EBFA;\n",
              "      box-shadow: 0px 1px 2px rgba(60, 64, 67, 0.3), 0px 1px 3px 1px rgba(60, 64, 67, 0.15);\n",
              "      fill: #174EA6;\n",
              "    }\n",
              "\n",
              "    .colab-df-buttons div {\n",
              "      margin-bottom: 4px;\n",
              "    }\n",
              "\n",
              "    [theme=dark] .colab-df-convert {\n",
              "      background-color: #3B4455;\n",
              "      fill: #D2E3FC;\n",
              "    }\n",
              "\n",
              "    [theme=dark] .colab-df-convert:hover {\n",
              "      background-color: #434B5C;\n",
              "      box-shadow: 0px 1px 3px 1px rgba(0, 0, 0, 0.15);\n",
              "      filter: drop-shadow(0px 1px 2px rgba(0, 0, 0, 0.3));\n",
              "      fill: #FFFFFF;\n",
              "    }\n",
              "  </style>\n",
              "\n",
              "    <script>\n",
              "      const buttonEl =\n",
              "        document.querySelector('#df-d7d9edf9-fcdc-42bf-a2e9-518d5e01f48a button.colab-df-convert');\n",
              "      buttonEl.style.display =\n",
              "        google.colab.kernel.accessAllowed ? 'block' : 'none';\n",
              "\n",
              "      async function convertToInteractive(key) {\n",
              "        const element = document.querySelector('#df-d7d9edf9-fcdc-42bf-a2e9-518d5e01f48a');\n",
              "        const dataTable =\n",
              "          await google.colab.kernel.invokeFunction('convertToInteractive',\n",
              "                                                    [key], {});\n",
              "        if (!dataTable) return;\n",
              "\n",
              "        const docLinkHtml = 'Like what you see? Visit the ' +\n",
              "          '<a target=\"_blank\" href=https://colab.research.google.com/notebooks/data_table.ipynb>data table notebook</a>'\n",
              "          + ' to learn more about interactive tables.';\n",
              "        element.innerHTML = '';\n",
              "        dataTable['output_type'] = 'display_data';\n",
              "        await google.colab.output.renderOutput(dataTable, element);\n",
              "        const docLink = document.createElement('div');\n",
              "        docLink.innerHTML = docLinkHtml;\n",
              "        element.appendChild(docLink);\n",
              "      }\n",
              "    </script>\n",
              "  </div>\n",
              "\n",
              "\n",
              "<div id=\"df-62b78a90-9a04-4814-846f-2ed887557adb\">\n",
              "  <button class=\"colab-df-quickchart\" onclick=\"quickchart('df-62b78a90-9a04-4814-846f-2ed887557adb')\"\n",
              "            title=\"Suggest charts\"\n",
              "            style=\"display:none;\">\n",
              "\n",
              "<svg xmlns=\"http://www.w3.org/2000/svg\" height=\"24px\"viewBox=\"0 0 24 24\"\n",
              "     width=\"24px\">\n",
              "    <g>\n",
              "        <path d=\"M19 3H5c-1.1 0-2 .9-2 2v14c0 1.1.9 2 2 2h14c1.1 0 2-.9 2-2V5c0-1.1-.9-2-2-2zM9 17H7v-7h2v7zm4 0h-2V7h2v10zm4 0h-2v-4h2v4z\"/>\n",
              "    </g>\n",
              "</svg>\n",
              "  </button>\n",
              "\n",
              "<style>\n",
              "  .colab-df-quickchart {\n",
              "      --bg-color: #E8F0FE;\n",
              "      --fill-color: #1967D2;\n",
              "      --hover-bg-color: #E2EBFA;\n",
              "      --hover-fill-color: #174EA6;\n",
              "      --disabled-fill-color: #AAA;\n",
              "      --disabled-bg-color: #DDD;\n",
              "  }\n",
              "\n",
              "  [theme=dark] .colab-df-quickchart {\n",
              "      --bg-color: #3B4455;\n",
              "      --fill-color: #D2E3FC;\n",
              "      --hover-bg-color: #434B5C;\n",
              "      --hover-fill-color: #FFFFFF;\n",
              "      --disabled-bg-color: #3B4455;\n",
              "      --disabled-fill-color: #666;\n",
              "  }\n",
              "\n",
              "  .colab-df-quickchart {\n",
              "    background-color: var(--bg-color);\n",
              "    border: none;\n",
              "    border-radius: 50%;\n",
              "    cursor: pointer;\n",
              "    display: none;\n",
              "    fill: var(--fill-color);\n",
              "    height: 32px;\n",
              "    padding: 0;\n",
              "    width: 32px;\n",
              "  }\n",
              "\n",
              "  .colab-df-quickchart:hover {\n",
              "    background-color: var(--hover-bg-color);\n",
              "    box-shadow: 0 1px 2px rgba(60, 64, 67, 0.3), 0 1px 3px 1px rgba(60, 64, 67, 0.15);\n",
              "    fill: var(--button-hover-fill-color);\n",
              "  }\n",
              "\n",
              "  .colab-df-quickchart-complete:disabled,\n",
              "  .colab-df-quickchart-complete:disabled:hover {\n",
              "    background-color: var(--disabled-bg-color);\n",
              "    fill: var(--disabled-fill-color);\n",
              "    box-shadow: none;\n",
              "  }\n",
              "\n",
              "  .colab-df-spinner {\n",
              "    border: 2px solid var(--fill-color);\n",
              "    border-color: transparent;\n",
              "    border-bottom-color: var(--fill-color);\n",
              "    animation:\n",
              "      spin 1s steps(1) infinite;\n",
              "  }\n",
              "\n",
              "  @keyframes spin {\n",
              "    0% {\n",
              "      border-color: transparent;\n",
              "      border-bottom-color: var(--fill-color);\n",
              "      border-left-color: var(--fill-color);\n",
              "    }\n",
              "    20% {\n",
              "      border-color: transparent;\n",
              "      border-left-color: var(--fill-color);\n",
              "      border-top-color: var(--fill-color);\n",
              "    }\n",
              "    30% {\n",
              "      border-color: transparent;\n",
              "      border-left-color: var(--fill-color);\n",
              "      border-top-color: var(--fill-color);\n",
              "      border-right-color: var(--fill-color);\n",
              "    }\n",
              "    40% {\n",
              "      border-color: transparent;\n",
              "      border-right-color: var(--fill-color);\n",
              "      border-top-color: var(--fill-color);\n",
              "    }\n",
              "    60% {\n",
              "      border-color: transparent;\n",
              "      border-right-color: var(--fill-color);\n",
              "    }\n",
              "    80% {\n",
              "      border-color: transparent;\n",
              "      border-right-color: var(--fill-color);\n",
              "      border-bottom-color: var(--fill-color);\n",
              "    }\n",
              "    90% {\n",
              "      border-color: transparent;\n",
              "      border-bottom-color: var(--fill-color);\n",
              "    }\n",
              "  }\n",
              "</style>\n",
              "\n",
              "  <script>\n",
              "    async function quickchart(key) {\n",
              "      const quickchartButtonEl =\n",
              "        document.querySelector('#' + key + ' button');\n",
              "      quickchartButtonEl.disabled = true;  // To prevent multiple clicks.\n",
              "      quickchartButtonEl.classList.add('colab-df-spinner');\n",
              "      try {\n",
              "        const charts = await google.colab.kernel.invokeFunction(\n",
              "            'suggestCharts', [key], {});\n",
              "      } catch (error) {\n",
              "        console.error('Error during call to suggestCharts:', error);\n",
              "      }\n",
              "      quickchartButtonEl.classList.remove('colab-df-spinner');\n",
              "      quickchartButtonEl.classList.add('colab-df-quickchart-complete');\n",
              "    }\n",
              "    (() => {\n",
              "      let quickchartButtonEl =\n",
              "        document.querySelector('#df-62b78a90-9a04-4814-846f-2ed887557adb button');\n",
              "      quickchartButtonEl.style.display =\n",
              "        google.colab.kernel.accessAllowed ? 'block' : 'none';\n",
              "    })();\n",
              "  </script>\n",
              "</div>\n",
              "    </div>\n",
              "  </div>\n"
            ]
          },
          "metadata": {},
          "execution_count": 2
        }
      ]
    },
    {
      "cell_type": "code",
      "source": [
        "# get training images\n",
        "train_dir = './content/histopathologic_dataset/train/'\n"
      ],
      "metadata": {
        "id": "MUsCR2ap9wTf"
      },
      "execution_count": 3,
      "outputs": []
    },
    {
      "cell_type": "code",
      "source": [
        "train_head = train_df.head(5)\n",
        "\n",
        "plt.figure(figsize=(15, 3))\n",
        "for i, row in enumerate(train_head.iterrows()):\n",
        "    img_id, label = row[1]\n",
        "    img_path = train_dir + f'{img_id}.tif'\n",
        "    img = Image.open(img_path)\n",
        "    # crop center 32x32\n",
        "    img = img.crop((32, 32, 64, 64))\n",
        "\n",
        "    plt.subplot(1, 5, i + 1)\n",
        "    plt.imshow(img)\n",
        "    if label == 0:\n",
        "      plt.title(\"Non-cancerous\")\n",
        "    else:\n",
        "      plt.title(\"Cancerous\")\n",
        "\n",
        "plt.tight_layout()\n",
        "plt.show()"
      ],
      "metadata": {
        "colab": {
          "base_uri": "https://localhost:8080/",
          "height": 152
        },
        "id": "dsB3ptKTYcKX",
        "outputId": "b261805c-5f73-480e-e580-adc354137ee8"
      },
      "execution_count": 4,
      "outputs": [
        {
          "output_type": "display_data",
          "data": {
            "text/plain": [
              "<Figure size 1500x300 with 5 Axes>"
            ],
            "image/png": "[encoded data removed]"
          },
          "metadata": {}
        }
      ]
    },
    {
      "cell_type": "code",
      "source": [
        "label_count = train_df['label'].value_counts()\n",
        "\n",
        "plt.figure(figsize=(4, 3))\n",
        "label_count.plot(kind='bar')\n",
        "plt.title('Distribution of Labels')\n",
        "plt.xlabel('Label')\n",
        "plt.ylabel('Count')\n",
        "plt.xticks(ticks=[0, 1], labels=['Non-Cancerous (0)', 'Cancerous (1)'], rotation=0)\n",
        "plt.show()"
      ],
      "metadata": {
        "colab": {
          "base_uri": "https://localhost:8080/",
          "height": 333
        },
        "id": "zxMTXKaQXQkD",
        "outputId": "831bc85b-9840-4519-d2bb-002f57e07233"
      },
      "execution_count": 5,
      "outputs": [
        {
          "output_type": "display_data",
          "data": {
            "text/plain": [
              "<Figure size 400x300 with 1 Axes>"
            ],
            "image/png": "[encoded data removed]"
          },
          "metadata": {}
        }
      ]
    },
    {
      "cell_type": "markdown",
      "source": [
        "From the above plot, we can see that there are only values of 0 and 1 (no NULL) for labels in the data. We will assume that the data is clean clean and can be used as is."
      ],
      "metadata": {
        "id": "7FBeFeOLqSh5"
      }
    },
    {
      "cell_type": "code",
      "source": [
        "c_perc = (label_count[0] / (label_count[0] + label_count[1]))\n",
        "nc_perc = (label_count[1] / (label_count[0] + label_count[1]))\n",
        "ratio = label_count[0] / label_count[1]\n",
        "\n",
        "print(f\"non-cancerous: {label_count[0]}, {c_perc*100:9.2f}%\")\n",
        "print(f\"cancerous: {label_count[1]},  {nc_perc*100:9.2f}%\")\n",
        "print(f\"Class Imbalance: {ratio:9.2f}\")"
      ],
      "metadata": {
        "colab": {
          "base_uri": "https://localhost:8080/"
        },
        "id": "2BOhPQmiaUEy",
        "outputId": "b57ed6f5-b50e-4bed-ac47-46fba25f0268"
      },
      "execution_count": 6,
      "outputs": [
        {
          "output_type": "stream",
          "name": "stdout",
          "text": [
            "non-cancerous: 130908,     59.50%\n",
            "cancerous: 89117,      40.50%\n",
            "Class Imbalance:      1.47\n"
          ]
        }
      ]
    },
    {
      "cell_type": "markdown",
      "source": [
        "From the above plot and ratio, we can see that there is a substantial imbalance between cancerous and non-cancerous images, with almost 1.5 times as many non-cancerous samples as cancerous. In order to address this, we will undersample to non-cancerous images so there are equal amounts of each. This will still leave a substantial amount of data so the tradeoff between data-loss and skew is reasonable."
      ],
      "metadata": {
        "id": "pH2UUHxZlRjR"
      }
    },
    {
      "cell_type": "code",
      "source": [
        "# seperate into cancerous and non-cancerous\n",
        "train_cancer = train_df[train_df['label'] == 1]\n",
        "train_non_cancer = train_df[train_df['label'] == 0]\n",
        "\n",
        "# randomly sample non-cancerous samples to match number of cancerous\n",
        "train_non_cancer_under = train_non_cancer.sample(n=len(train_cancer['label']), random_state = 33)\n",
        "\n",
        "# sanity check\n",
        "print(train_non_cancer_under.shape)\n",
        "print(train_cancer.shape)"
      ],
      "metadata": {
        "colab": {
          "base_uri": "https://localhost:8080/"
        },
        "id": "0URq0cKvl_ws",
        "outputId": "ec0eb5a3-8ca0-49ae-f2e2-163adbfbb582"
      },
      "execution_count": 7,
      "outputs": [
        {
          "output_type": "stream",
          "name": "stdout",
          "text": [
            "(89117, 2)\n",
            "(89117, 2)\n"
          ]
        }
      ]
    },
    {
      "cell_type": "code",
      "source": [
        "# combine cancerous with undersampled non-cancerous\n",
        "train_dataset = pd.concat([train_cancer, train_non_cancer_under])\n",
        "\n",
        "# save new training dataset\n",
        "# train_dataset.to_csv('./content/histopathologic_dataset/balanced_train_data.csv', index=False)\n",
        "\n",
        "# sanity check\n",
        "print(f\"Total number of samples: {len(train_dataset)}\")\n",
        "print(train_dataset['label'].value_counts())"
      ],
      "metadata": {
        "colab": {
          "base_uri": "https://localhost:8080/"
        },
        "id": "YTb4WAZxnquV",
        "outputId": "1ad8c6b4-8b67-4e69-fbed-865eabc84f4f"
      },
      "execution_count": 8,
      "outputs": [
        {
          "output_type": "stream",
          "name": "stdout",
          "text": [
            "Total number of samples: 178234\n",
            "1    89117\n",
            "0    89117\n",
            "Name: label, dtype: int64\n"
          ]
        }
      ]
    },
    {
      "cell_type": "markdown",
      "source": [
        "## Image Processing Section\n",
        "Convert images to np array containing numerical representations of all images. This array can then be used as input data (features) for ML models."
      ],
      "metadata": {
        "id": "Qu1YFn9tZSq_"
      }
    },
    {
      "cell_type": "code",
      "source": [
        "###### don't run!! takes a long time ############\n",
        "# check all images are same size\n",
        "  # removes calculations in get_images cropping of center pixels\n",
        "  # only tissue in center 32x32 patch influences label\n",
        "# for path in train_img_paths:\n",
        "  # img = Image.open(path)\n",
        "  # if img.size != (96, 96):\n",
        "    # print(\"not all same size\")\n",
        "    # break"
      ],
      "metadata": {
        "id": "3U6Qpq__N-CA"
      },
      "execution_count": 9,
      "outputs": []
    },
    {
      "cell_type": "code",
      "source": [
        "def save_images_to_hdf5(img_ids, hdf5_path, dataset_name):\n",
        "    '''\n",
        "    Save image data from all of the images in training folder to an HDF5 file.\n",
        "    Resize to only include center 32x32 pixels (from 96x96 of original).\n",
        "    Scale pixel values to range between 0 and 1.\n",
        "\n",
        "    Parameters:\n",
        "    img_ids: List of image IDs.\n",
        "    hdf5_path: Path to save the HDF5 file.\n",
        "    dataset_name: Name of the dataset in the HDF5 file.\n",
        "    '''\n",
        "\n",
        "    # Calculate the number of images\n",
        "    num_images = len(img_ids)\n",
        "\n",
        "    # Create a new HDF5 file\n",
        "    with h5py.File(hdf5_path, \"w\") as hf:\n",
        "        # Create a dataset in the file to hold all the images\n",
        "        # dataset = hdf5_file.create_dataset(\n",
        "            # \"images\", (num_images, 32, 32, 3), np.float32\n",
        "        # )\n",
        "        dataset = hf.create_dataset(f'{dataset_name}', (num_images, 32, 32, 3), np.float32)\n",
        "\n",
        "        for i, img_id in enumerate(img_ids):\n",
        "            img_path = os.path.join(train_dir, img_id + '.tif')\n",
        "            img = Image.open(img_path)\n",
        "\n",
        "            # Crop center 32 pixels\n",
        "            img = img.crop((32, 32, 64, 64))  # left, upper, right, lower pixel coordinates\n",
        "\n",
        "            # normalize\n",
        "            img_arr = np.array(img) / 255.0\n",
        "\n",
        "            # store the image in the dataset\n",
        "            dataset[i, ...] = img_arr\n",
        "\n"
      ],
      "metadata": {
        "id": "mSjow8uDHfh2"
      },
      "execution_count": 10,
      "outputs": []
    },
    {
      "cell_type": "code",
      "source": [
        "def load_images_from_hdf5(hdf5_path, dataset_name, indices):\n",
        "    '''\n",
        "    Load images from an HDF5 file based on indice.\n",
        "\n",
        "    Parameters:\n",
        "    hdf5_path: Path to the hdf5 file.\n",
        "    dataset_name: Name of the dataset in the hdf5 file.\n",
        "    indices: list of indices to extract from hdf5\n",
        "\n",
        "    '''\n",
        "    with h5py.File(hdf5_path, \"r\") as hf:\n",
        "        images = np.empty((len(indices), 32, 32, 3))\n",
        "        for i, idx in enumerate(indices):\n",
        "            images[i] = hf[dataset_name][idx]\n",
        "\n",
        "    return images"
      ],
      "metadata": {
        "id": "I5fewocSH5Nn"
      },
      "execution_count": 11,
      "outputs": []
    },
    {
      "cell_type": "code",
      "source": [
        "# get the path to each of the images in the balanced dataset\n",
        "train_ids = train_dataset['id'].values"
      ],
      "metadata": {
        "id": "meL67fsTr-eK"
      },
      "execution_count": 12,
      "outputs": []
    },
    {
      "cell_type": "code",
      "source": [
        "# only have to run once to save hdf5 file\n",
        "# save_images_to_hdf5(train_ids, './content/training_images.h5', 'processed_images')\n",
        "# 4m 12s"
      ],
      "metadata": {
        "id": "e7IW1z2OIcJ6"
      },
      "execution_count": 35,
      "outputs": []
    },
    {
      "cell_type": "markdown",
      "source": [
        "To get images, use\n",
        "- load_images_from_hdf5('./content/training_images.h5', 'processed_images', indices)\n",
        "\n",
        " This will be used to get the training and testing images by their indice after train_test_split has been used. Avoids having to load the whole dataset into memory on top of the training and testing datasets."
      ],
      "metadata": {
        "id": "UWHiduEJXaTV"
      }
    },
    {
      "cell_type": "markdown",
      "source": [
        "# Model architecture\n",
        "\n",
        "The architecture for my model will be relatively simple, with a small number of layers, relu activation and a final sigmoidal layer for binary classification.\n",
        "\n",
        "**Convolutional Layers** <br>\n",
        "Convolutional layers use kernals (filters) to slide over the input image in order to extract and learn simple features within the image including vertical edges, horizontal edges, textures, etc.  \n"
      ],
      "metadata": {
        "id": "QCpY5w1egfQI"
      }
    },
    {
      "cell_type": "code",
      "source": [
        "# get just the pos/neg labels from train_df\n",
        "train_labels = train_dataset['label'].values"
      ],
      "metadata": {
        "id": "kXJTXbskxynb"
      },
      "execution_count": 13,
      "outputs": []
    },
    {
      "cell_type": "code",
      "source": [
        "# sanity check\n",
        "print(train_labels.shape)\n",
        "print(type(train_labels))"
      ],
      "metadata": {
        "colab": {
          "base_uri": "https://localhost:8080/"
        },
        "id": "hhHy7Wcyufsz",
        "outputId": "ece1b166-bf58-4e50-9914-c4f2821d8874"
      },
      "execution_count": 14,
      "outputs": [
        {
          "output_type": "stream",
          "name": "stdout",
          "text": [
            "(178234,)\n",
            "<class 'numpy.ndarray'>\n"
          ]
        }
      ]
    },
    {
      "cell_type": "code",
      "source": [
        "# seperate data into training and validation\n",
        "training_indices, testing_indices, training_labels, testing_labels = train_test_split(\n",
        "    range(len(train_labels)),\n",
        "    train_labels,\n",
        "    test_size = 0.2,\n",
        "    random_state = 33\n",
        ")"
      ],
      "metadata": {
        "id": "NTCbpFlluClk"
      },
      "execution_count": 15,
      "outputs": []
    },
    {
      "cell_type": "code",
      "source": [
        "training_images = load_images_from_hdf5('./content/training_images.h5', 'processed_images', training_indices)\n",
        "testing_images = load_images_from_hdf5('./content/training_images.h5', 'processed_images', testing_indices)\n",
        "\n",
        "# (54s)\n",
        "# 4 GB RAM\n",
        "# garbage collect these after model is trained on them to save up RAM"
      ],
      "metadata": {
        "id": "C24xhIClyg6R"
      },
      "execution_count": 16,
      "outputs": []
    },
    {
      "cell_type": "code",
      "source": [
        "# sanity check\n",
        "print(training_images.shape)\n",
        "print(testing_images.shape)\n",
        "print(training_labels.shape)\n",
        "print(testing_labels.shape)"
      ],
      "metadata": {
        "colab": {
          "base_uri": "https://localhost:8080/"
        },
        "id": "YtyXiy6KU7Ns",
        "outputId": "6f2e651d-2df3-4d77-9265-fb95ca5d0b2b"
      },
      "execution_count": 17,
      "outputs": [
        {
          "output_type": "stream",
          "name": "stdout",
          "text": [
            "(142587, 32, 32, 3)\n",
            "(35647, 32, 32, 3)\n",
            "(142587,)\n",
            "(35647,)\n"
          ]
        }
      ]
    },
    {
      "cell_type": "markdown",
      "source": [
        "## Model\n",
        "\n",
        "\n",
        "\n"
      ],
      "metadata": {
        "id": "4Ae_6qU5CVq_"
      }
    },
    {
      "cell_type": "code",
      "source": [
        "\n",
        "model = Sequential([\n",
        "    Conv2D(32, (3, 3), activation='relu', input_shape=(32, 32, 3)),\n",
        "    MaxPooling2D((2, 2)),\n",
        "    Conv2D(64, (3, 3), activation='relu'),\n",
        "    MaxPooling2D((2, 2)),\n",
        "    Flatten(),\n",
        "    Dense(64, activation='relu'),\n",
        "    Dense(1, activation='sigmoid')\n",
        "])\n",
        "\n",
        "model.summary()"
      ],
      "metadata": {
        "id": "rDnfUhC4azTU",
        "colab": {
          "base_uri": "https://localhost:8080/"
        },
        "outputId": "23e29bae-4d4d-434e-e823-5dcb400b1a1f"
      },
      "execution_count": 18,
      "outputs": [
        {
          "output_type": "stream",
          "name": "stdout",
          "text": [
            "Model: \"sequential\"\n",
            "_________________________________________________________________\n",
            " Layer (type)                Output Shape              Param #   \n",
            "=================================================================\n",
            " conv2d (Conv2D)             (None, 30, 30, 32)        896       \n",
            "                                                                 \n",
            " max_pooling2d (MaxPooling2  (None, 15, 15, 32)        0         \n",
            " D)                                                              \n",
            "                                                                 \n",
            " conv2d_1 (Conv2D)           (None, 13, 13, 64)        18496     \n",
            "                                                                 \n",
            " max_pooling2d_1 (MaxPoolin  (None, 6, 6, 64)          0         \n",
            " g2D)                                                            \n",
            "                                                                 \n",
            " flatten (Flatten)           (None, 2304)              0         \n",
            "                                                                 \n",
            " dense (Dense)               (None, 64)                147520    \n",
            "                                                                 \n",
            " dense_1 (Dense)             (None, 1)                 65        \n",
            "                                                                 \n",
            "=================================================================\n",
            "Total params: 166977 (652.25 KB)\n",
            "Trainable params: 166977 (652.25 KB)\n",
            "Non-trainable params: 0 (0.00 Byte)\n",
            "_________________________________________________________________\n"
          ]
        }
      ]
    },
    {
      "cell_type": "code",
      "source": [
        "model.compile(optimizer=Adam(),\n",
        "              loss='binary_crossentropy',\n",
        "              metrics=['accuracy'])"
      ],
      "metadata": {
        "id": "j3rjhQCyBAaS"
      },
      "execution_count": 19,
      "outputs": []
    },
    {
      "cell_type": "code",
      "source": [
        "history = model.fit(training_images, training_labels, epochs=10,\n",
        "                    validation_data=(testing_images, testing_labels))"
      ],
      "metadata": {
        "colab": {
          "base_uri": "https://localhost:8080/"
        },
        "id": "NSGBOIiqDwgV",
        "outputId": "086bc0e5-a7ef-412a-c95e-b4b55a23eac4"
      },
      "execution_count": 20,
      "outputs": [
        {
          "output_type": "stream",
          "name": "stdout",
          "text": [
            "Epoch 1/10\n",
            "4456/4456 [==============================] - 117s 26ms/step - loss: 0.5079 - accuracy: 0.7584 - val_loss: 0.4816 - val_accuracy: 0.7787\n",
            "Epoch 2/10\n",
            "4456/4456 [==============================] - 110s 25ms/step - loss: 0.4682 - accuracy: 0.7839 - val_loss: 0.4519 - val_accuracy: 0.7929\n",
            "Epoch 3/10\n",
            "4456/4456 [==============================] - 113s 25ms/step - loss: 0.4515 - accuracy: 0.7936 - val_loss: 0.4767 - val_accuracy: 0.7811\n",
            "Epoch 4/10\n",
            "4456/4456 [==============================] - 112s 25ms/step - loss: 0.4400 - accuracy: 0.8007 - val_loss: 0.4379 - val_accuracy: 0.8002\n",
            "Epoch 5/10\n",
            "4456/4456 [==============================] - 110s 25ms/step - loss: 0.4294 - accuracy: 0.8060 - val_loss: 0.4657 - val_accuracy: 0.7824\n",
            "Epoch 6/10\n",
            "4456/4456 [==============================] - 117s 26ms/step - loss: 0.4212 - accuracy: 0.8090 - val_loss: 0.4289 - val_accuracy: 0.8065\n",
            "Epoch 7/10\n",
            "4456/4456 [==============================] - 114s 26ms/step - loss: 0.4150 - accuracy: 0.8131 - val_loss: 0.4303 - val_accuracy: 0.8064\n",
            "Epoch 8/10\n",
            "4456/4456 [==============================] - 114s 26ms/step - loss: 0.4069 - accuracy: 0.8162 - val_loss: 0.4230 - val_accuracy: 0.8100\n",
            "Epoch 9/10\n",
            "4456/4456 [==============================] - 112s 25ms/step - loss: 0.3995 - accuracy: 0.8205 - val_loss: 0.4347 - val_accuracy: 0.8024\n",
            "Epoch 10/10\n",
            "4456/4456 [==============================] - 112s 25ms/step - loss: 0.3916 - accuracy: 0.8232 - val_loss: 0.4241 - val_accuracy: 0.8081\n"
          ]
        }
      ]
    },
    {
      "cell_type": "markdown",
      "source": [
        "(18m 2s)"
      ],
      "metadata": {
        "id": "5jD6f_khbGLE"
      }
    },
    {
      "cell_type": "markdown",
      "source": [
        "## Model Results"
      ],
      "metadata": {
        "id": "B2GKmdKOG5Sd"
      }
    },
    {
      "cell_type": "code",
      "source": [
        "# Extracting loss, training accuracy, and validation accuracy from the history object\n",
        "loss = history.history['loss']\n",
        "val_loss = history.history['val_loss']\n",
        "accuracy = history.history['accuracy']\n",
        "val_accuracy = history.history['val_accuracy']\n",
        "epochs = range(1, len(loss) + 1)"
      ],
      "metadata": {
        "id": "Ogh0d7i8D0hd"
      },
      "execution_count": 21,
      "outputs": []
    },
    {
      "cell_type": "code",
      "source": [
        "# Plot loss\n",
        "plt.figure(figsize=(12, 5))\n",
        "\n",
        "plt.subplot(1, 2, 1)\n",
        "plt.plot(epochs, loss, 'bo-', label='Training Loss')\n",
        "plt.plot(epochs, val_loss, 'ro-', label='Validation Loss')\n",
        "plt.title('Training and Validation Loss')\n",
        "plt.xlabel('Epoch')\n",
        "plt.ylabel('Loss')\n",
        "plt.legend()\n",
        "\n",
        "# Plot accuracy\n",
        "plt.subplot(1, 2, 2)\n",
        "plt.plot(epochs, accuracy, 'bo-', label='Training Accuracy')\n",
        "plt.plot(epochs, val_accuracy, 'ro-', label='Validation Accuracy')\n",
        "plt.title('Training and Validation Accuracy')\n",
        "plt.xlabel('Epoch')\n",
        "plt.ylabel('Accuracy')\n",
        "plt.legend()\n",
        "\n",
        "plt.tight_layout()\n",
        "plt.show()"
      ],
      "metadata": {
        "colab": {
          "base_uri": "https://localhost:8080/",
          "height": 276
        },
        "id": "tZoefQu1G_QV",
        "outputId": "0fe4b3d7-b970-477d-baca-9bb73476a62d"
      },
      "execution_count": 22,
      "outputs": [
        {
          "output_type": "display_data",
          "data": {
            "text/plain": [
              "<Figure size 1200x500 with 2 Axes>"
            ],
            "image/png": "[encoded data removed]"
          },
          "metadata": {}
        }
      ]
    },
    {
      "cell_type": "code",
      "source": [
        "# Training complete. clean up space in RAM\n",
        "import gc\n",
        "\n",
        "del training_images\n",
        "del testing_images\n",
        "\n",
        "gc.collect()"
      ],
      "metadata": {
        "id": "W6rP2CyNHCjv",
        "colab": {
          "base_uri": "https://localhost:8080/"
        },
        "outputId": "cabf50ca-fdec-4f06-a96e-0d5d21244344"
      },
      "execution_count": 26,
      "outputs": [
        {
          "output_type": "execute_result",
          "data": {
            "text/plain": [
              "11803"
            ]
          },
          "metadata": {},
          "execution_count": 26
        }
      ]
    },
    {
      "cell_type": "code",
      "source": [
        "del train_cancer\n",
        "del train_dataset\n",
        "del train_df\n",
        "del train_dir\n",
        "del train_head\n",
        "del train_ids\n",
        "del train_labels\n",
        "del train_non_cancer\n",
        "del train_non_cancer_under\n",
        "del train_test_split\n",
        "\n",
        "gc.collect()"
      ],
      "metadata": {
        "colab": {
          "base_uri": "https://localhost:8080/"
        },
        "id": "BdFcRuDmfsyD",
        "outputId": "8d19d4ec-6096-47c6-bf72-b846a86a64e0"
      },
      "execution_count": 29,
      "outputs": [
        {
          "output_type": "execute_result",
          "data": {
            "text/plain": [
              "768"
            ]
          },
          "metadata": {},
          "execution_count": 29
        }
      ]
    },
    {
      "cell_type": "code",
      "source": [
        "def save_test_images_to_hdf5(test_dir, hdf5_path, dataset_name):\n",
        "    '''\n",
        "    Save image data from all of the images in training folder to an HDF5 file.\n",
        "    Resize to only include center 32x32 pixels (from 96x96 of original).\n",
        "    Scale pixel values to range between 0 and 1.\n",
        "\n",
        "    Parameters:\n",
        "    img_paths: List of image IDs.\n",
        "    hdf5_path: Path to save the HDF5 file.\n",
        "    dataset_name: Name of the dataset in the HDF5 file.\n",
        "    '''\n",
        "\n",
        "    with h5py.File(hdf5_path, 'w') as hf:\n",
        "      # get images from test directory\n",
        "      img_files = [image for image in os.listdir(test_dir) if image.endswith('.tif')]\n",
        "\n",
        "      dataset = hf.create_dataset(f'{dataset_name}', (len(img_files), 32, 32, 3), np.float32)\n",
        "\n",
        "      for i, file in enumerate(img_files):\n",
        "        img_path = os.path.join(test_dir, file)\n",
        "        img = Image.open(img_path)\n",
        "\n",
        "      # crop center 32x32 pixels\n",
        "      img = img.crop((32, 32, 64, 64))\n",
        "\n",
        "      # normalize\n",
        "      img_arr = np.array(img) / 255.0\n",
        "\n",
        "      # store image in dataset\n",
        "      dataset[i, ...] = img_arr"
      ],
      "metadata": {
        "id": "bb9tGP-qcMrO"
      },
      "execution_count": 27,
      "outputs": []
    },
    {
      "cell_type": "code",
      "source": [
        "def load_test_images_from_hdf5(hdf5_path, dataset_name):\n",
        "    '''\n",
        "    Load images from an HDF5 file based on indice.\n",
        "\n",
        "    Parameters:\n",
        "    hdf5_path: Path to the hdf5 file.\n",
        "    dataset_name: Name of the dataset in the hdf5 file.\n",
        "    indices: list of indices to extract from hdf5\n",
        "\n",
        "    '''\n",
        "    with h5py.File(hdf5_path, \"r\") as hf:\n",
        "\n",
        "        images = hf[dataset_name][:]\n",
        "\n",
        "    return images"
      ],
      "metadata": {
        "id": "0QcMVZXughlc"
      },
      "execution_count": 38,
      "outputs": []
    },
    {
      "cell_type": "code",
      "source": [
        "test_dir = './content/histopathologic_dataset/test'\n",
        "\n",
        "# save hdf5 file --> only need to run once\n",
        "# save_images_to_hdf5(train_ids, './content/training_images.h5', 'processed_images')\n",
        "# save_test_images_to_hdf5(test_dir, './content/testing_images.h5', 'processed_images')\n",
        "# (1m 2s)"
      ],
      "metadata": {
        "id": "auw8N4wvfAvB"
      },
      "execution_count": 28,
      "outputs": []
    },
    {
      "cell_type": "code",
      "source": [
        "test_images = load_test_images_from_hdf5('./content/testing_images.h5', 'processed_images')"
      ],
      "metadata": {
        "id": "I4EdUr7Zgg6d"
      },
      "execution_count": 39,
      "outputs": []
    },
    {
      "cell_type": "code",
      "source": [
        "test_images.shape"
      ],
      "metadata": {
        "colab": {
          "base_uri": "https://localhost:8080/"
        },
        "id": "0sOqrcTefifu",
        "outputId": "cc0cdf09-ece8-44cd-d7e7-ded91b5ff9a4"
      },
      "execution_count": 40,
      "outputs": [
        {
          "output_type": "execute_result",
          "data": {
            "text/plain": [
              "(57458, 32, 32, 3)"
            ]
          },
          "metadata": {},
          "execution_count": 40
        }
      ]
    },
    {
      "cell_type": "markdown",
      "source": [
        "## Label Prediction using Model"
      ],
      "metadata": {
        "id": "oJ8BP-uKi8T2"
      }
    },
    {
      "cell_type": "code",
      "source": [
        "predictions = model.predict(test_images)"
      ],
      "metadata": {
        "colab": {
          "base_uri": "https://localhost:8080/"
        },
        "id": "tSQJhMuPiuxi",
        "outputId": "75f252c8-a9f8-4333-e8b1-ee04ed99c659"
      },
      "execution_count": 43,
      "outputs": [
        {
          "output_type": "stream",
          "name": "stdout",
          "text": [
            "1796/1796 [==============================] - 16s 9ms/step\n"
          ]
        }
      ]
    },
    {
      "cell_type": "code",
      "source": [
        "# convert the prediction to binary 0 or 1 to map to non-cancerous or cancerous respectively\n",
        "tf_predictions = (predictions > 0.5).astype(int).flatten()"
      ],
      "metadata": {
        "id": "tGleH1N1kAu2"
      },
      "execution_count": 48,
      "outputs": []
    },
    {
      "cell_type": "code",
      "source": [
        "# extract image IDs\n",
        "test_img_ids = [os.path.splitext(file)[0] for file in os.listdir(test_dir) if file.endswith('.tif')]"
      ],
      "metadata": {
        "id": "t_Um2iC9kCIn"
      },
      "execution_count": 50,
      "outputs": []
    },
    {
      "cell_type": "code",
      "source": [
        "# sanity check\n",
        "len(test_img_ids)"
      ],
      "metadata": {
        "colab": {
          "base_uri": "https://localhost:8080/"
        },
        "id": "Rm6Od9vUkRzR",
        "outputId": "ecf178ce-267b-4be6-d28c-92edf7d420a5"
      },
      "execution_count": 52,
      "outputs": [
        {
          "output_type": "execute_result",
          "data": {
            "text/plain": [
              "57458"
            ]
          },
          "metadata": {},
          "execution_count": 52
        }
      ]
    },
    {
      "cell_type": "code",
      "source": [
        "# put test predictions into correct format (id, label)\n",
        "final = pd.DataFrame({\n",
        "    'id': test_img_ids,\n",
        "    'label': tf_predictions\n",
        "})"
      ],
      "metadata": {
        "id": "APx7GgpwlCxW"
      },
      "execution_count": 53,
      "outputs": []
    },
    {
      "cell_type": "code",
      "source": [
        "# save final results to .csv\n",
        "final.to_csv('/content/model_results.csv', index=False)"
      ],
      "metadata": {
        "id": "_Sx3n2v4l2xG"
      },
      "execution_count": 54,
      "outputs": []
    },
    {
      "cell_type": "code",
      "source": [
        "!pwd"
      ],
      "metadata": {
        "colab": {
          "base_uri": "https://localhost:8080/"
        },
        "id": "_KAexFj7mDG6",
        "outputId": "52b21fdb-58f8-4782-91db-228e54648c5e"
      },
      "execution_count": 55,
      "outputs": [
        {
          "output_type": "stream",
          "name": "stdout",
          "text": [
            "/content\n"
          ]
        }
      ]
    },
    {
      "cell_type": "code",
      "source": [],
      "metadata": {
        "id": "13K66XYsmMFN"
      },
      "execution_count": null,
      "outputs": []
    }
  ]
}
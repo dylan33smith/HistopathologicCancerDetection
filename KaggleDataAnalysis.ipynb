{
  "nbformat": 4,
  "nbformat_minor": 0,
  "metadata": {
    "colab": {
      "provenance": [],
      "authorship_tag": "ABX9TyO1QDWGu6WhL4ITx/bTPF+P",
      "include_colab_link": true
    },
    "kernelspec": {
      "name": "python3",
      "display_name": "Python 3"
    },
    "language_info": {
      "name": "python"
    }
  },
  "cells": [
    {
      "cell_type": "markdown",
      "metadata": {
        "id": "view-in-github",
        "colab_type": "text"
      },
      "source": [
        "<a href=\"https://colab.research.google.com/github/dylan33smith/HistopathologicCancerDetection/blob/main/KaggleDataAnalysis.ipynb\" target=\"_parent\"><img src=\"https://colab.research.google.com/assets/colab-badge.svg\" alt=\"Open In Colab\"/></a>"
      ]
    },
    {
      "cell_type": "markdown",
      "source": [
        "# **Histopathologic Cancer Detection**\n",
        "Dylan Smith <br>\n",
        "CSPB 3202: Fall 2023 <br>\n",
        "Homework 5: Kaggle Competition <br>\n",
        "Github URL: https://github.com/dylan33smith/HistopathologicCancerDetection\n",
        "\n",
        "\n",
        "## **Problem**\n",
        "\n",
        "The purpose of this competition is to create an algorithm that accurately identifies cancer in small image patches taken from pathology scans. This is a binary classification task, as we are aiming to identify either the presence of cancer (1) or the absence of cancer (0).\n",
        "\n",
        "The evaluation metric for this challenge is the ROC curve measuring the performance of the prediction models based on their accuracy in distinguishing between the presence of cancerous tissue or the absence of cancerous tissue.\n",
        "\n",
        "## **Data**\n",
        "\n",
        "The data used in this challenge is a cleaned (no duplicates) version of the PatchCamelyon benchmark data set. The data is split into two directories, train and test. Test contains 57458 .tif images while Train contains 220,025 .tif images. In addition to the training images, train_labels.csv contains a positive or negative label corresponding to each of the images in the Train folder.\n",
        "\n",
        "The labels for the training data correspond to the 32x32 pixel section in the center of each image. A positive label indicates that this 32x32 pixel region contains at least one pixel of tumor. The pixels from outside of this region do not influence the label, and so any tumor containing pixels in this region will not contribute to a positive label.\n",
        "\n",
        "<br>\n",
        "<br>\n",
        "\n",
        "\n",
        "## **Downloading data from Kaggle and preparing Collab environment**"
      ],
      "metadata": {
        "id": "7QIoPRyWvZPK"
      }
    },
    {
      "cell_type": "code",
      "execution_count": 1,
      "metadata": {
        "id": "oLyDVRz-pXBo"
      },
      "outputs": [],
      "source": [
        "from google.colab import files\n"
      ]
    },
    {
      "cell_type": "code",
      "source": [
        "uploaded = files.upload()\n",
        "!mkdir -p ~/.kaggle\n",
        "!mv kaggle.json ~/.kaggle/\n",
        "!chmod 600 ~/.kaggle/kaggle.json"
      ],
      "metadata": {
        "id": "FBxrzHpxpl0g"
      },
      "execution_count": null,
      "outputs": []
    },
    {
      "cell_type": "code",
      "source": [
        "!kaggle competitions download -c histopathologic-cancer-detection"
      ],
      "metadata": {
        "colab": {
          "base_uri": "https://localhost:8080/"
        },
        "id": "ONz_n8Ykp93w",
        "outputId": "ad17901d-429e-4beb-8ee4-88b27b57f3ba"
      },
      "execution_count": 10,
      "outputs": [
        {
          "output_type": "stream",
          "name": "stdout",
          "text": [
            "Downloading histopathologic-cancer-detection.zip to /content\n",
            "100% 6.29G/6.31G [01:15<00:00, 140MB/s]\n",
            "100% 6.31G/6.31G [01:15<00:00, 89.7MB/s]\n"
          ]
        }
      ]
    },
    {
      "cell_type": "code",
      "source": [
        "import zipfile"
      ],
      "metadata": {
        "id": "oRLajlKlqebC"
      },
      "execution_count": 11,
      "outputs": []
    },
    {
      "cell_type": "code",
      "source": [
        "with zipfile.ZipFile('/content/histopathologic-cancer-detection.zip','r') as zip_ref:\n",
        "  zip_ref.extractall('content/histopathologic_dataset')\n",
        "\n",
        "# (1m 43s)"
      ],
      "metadata": {
        "id": "WEp053SvrdCf"
      },
      "execution_count": 12,
      "outputs": []
    },
    {
      "cell_type": "code",
      "source": [
        "!pip install h5py"
      ],
      "metadata": {
        "id": "wYE2icni05cI"
      },
      "execution_count": null,
      "outputs": []
    },
    {
      "cell_type": "code",
      "source": [
        "!pip install pandas\n",
        "!pip install numpy==1.24.3\n",
        "!pip install scikit-learn"
      ],
      "metadata": {
        "id": "lM7sHz3itEIh"
      },
      "execution_count": null,
      "outputs": []
    },
    {
      "cell_type": "code",
      "source": [
        "!pip install tensorflow\n"
      ],
      "metadata": {
        "id": "g5BQCuaVx0ig"
      },
      "execution_count": null,
      "outputs": []
    },
    {
      "cell_type": "markdown",
      "source": [
        "## **Exploratory Data Analysis**\n"
      ],
      "metadata": {
        "id": "IhKCSbZgstIG"
      }
    },
    {
      "cell_type": "code",
      "source": [
        "import os\n",
        "import random\n",
        "import cv2\n",
        "from PIL import Image\n",
        "import numpy as np\n",
        "import pandas as pd\n",
        "import matplotlib.pyplot as plt\n",
        "import matplotlib.patches as patches\n",
        "from sklearn.model_selection import train_test_split\n",
        "\n",
        "import tensorflow as tf\n",
        "from keras.models import Sequential\n",
        "from keras.layers import Conv2D, Dense, Dropout, Flatten, MaxPooling2D\n",
        "from keras.optimizers import Adam\n",
        "\n",
        "import h5py"
      ],
      "metadata": {
        "id": "34rnuVEdrsno"
      },
      "execution_count": 1,
      "outputs": []
    },
    {
      "cell_type": "code",
      "source": [
        "train_df = pd.read_csv('./content/histopathologic_dataset/train_labels.csv')\n",
        "# This is a df of the image id and it's associated pos/neg label (for training images)\n",
        "train_df.head()\n",
        "# shape: (220025, 2)\n",
        "# labels are given in binary with 0 corresponding to non-cancerous and 1 corresponding to cancerous"
      ],
      "metadata": {
        "colab": {
          "base_uri": "https://localhost:8080/",
          "height": 206
        },
        "id": "KaPAfU40xps1",
        "outputId": "f742c90e-b93f-4b60-ad5e-2fc8c6940396"
      },
      "execution_count": 2,
      "outputs": [
        {
          "output_type": "execute_result",
          "data": {
            "text/plain": [
              "                                         id  label\n",
              "0  f38a6374c348f90b587e046aac6079959adf3835      0\n",
              "1  c18f2d887b7ae4f6742ee445113fa1aef383ed77      1\n",
              "2  755db6279dae599ebb4d39a9123cce439965282d      0\n",
              "3  bc3f0c64fb968ff4a8bd33af6971ecae77c75e08      0\n",
              "4  068aba587a4950175d04c680d38943fd488d6a9d      0"
            ],
            "text/html": [
              "\n",
              "  <div id=\"df-d7d9edf9-fcdc-42bf-a2e9-518d5e01f48a\" class=\"colab-df-container\">\n",
              "    <div>\n",
              "<style scoped>\n",
              "    .dataframe tbody tr th:only-of-type {\n",
              "        vertical-align: middle;\n",
              "    }\n",
              "\n",
              "    .dataframe tbody tr th {\n",
              "        vertical-align: top;\n",
              "    }\n",
              "\n",
              "    .dataframe thead th {\n",
              "        text-align: right;\n",
              "    }\n",
              "</style>\n",
              "<table border=\"1\" class=\"dataframe\">\n",
              "  <thead>\n",
              "    <tr style=\"text-align: right;\">\n",
              "      <th></th>\n",
              "      <th>id</th>\n",
              "      <th>label</th>\n",
              "    </tr>\n",
              "  </thead>\n",
              "  <tbody>\n",
              "    <tr>\n",
              "      <th>0</th>\n",
              "      <td>f38a6374c348f90b587e046aac6079959adf3835</td>\n",
              "      <td>0</td>\n",
              "    </tr>\n",
              "    <tr>\n",
              "      <th>1</th>\n",
              "      <td>c18f2d887b7ae4f6742ee445113fa1aef383ed77</td>\n",
              "      <td>1</td>\n",
              "    </tr>\n",
              "    <tr>\n",
              "      <th>2</th>\n",
              "      <td>755db6279dae599ebb4d39a9123cce439965282d</td>\n",
              "      <td>0</td>\n",
              "    </tr>\n",
              "    <tr>\n",
              "      <th>3</th>\n",
              "      <td>bc3f0c64fb968ff4a8bd33af6971ecae77c75e08</td>\n",
              "      <td>0</td>\n",
              "    </tr>\n",
              "    <tr>\n",
              "      <th>4</th>\n",
              "      <td>068aba587a4950175d04c680d38943fd488d6a9d</td>\n",
              "      <td>0</td>\n",
              "    </tr>\n",
              "  </tbody>\n",
              "</table>\n",
              "</div>\n",
              "    <div class=\"colab-df-buttons\">\n",
              "\n",
              "  <div class=\"colab-df-container\">\n",
              "    <button class=\"colab-df-convert\" onclick=\"convertToInteractive('df-d7d9edf9-fcdc-42bf-a2e9-518d5e01f48a')\"\n",
              "            title=\"Convert this dataframe to an interactive table.\"\n",
              "            style=\"display:none;\">\n",
              "\n",
              "  <svg xmlns=\"http://www.w3.org/2000/svg\" height=\"24px\" viewBox=\"0 -960 960 960\">\n",
              "    <path d=\"M120-120v-720h720v720H120Zm60-500h600v-160H180v160Zm220 220h160v-160H400v160Zm0 220h160v-160H400v160ZM180-400h160v-160H180v160Zm440 0h160v-160H620v160ZM180-180h160v-160H180v160Zm440 0h160v-160H620v160Z\"/>\n",
              "  </svg>\n",
              "    </button>\n",
              "\n",
              "  <style>\n",
              "    .colab-df-container {\n",
              "      display:flex;\n",
              "      gap: 12px;\n",
              "    }\n",
              "\n",
              "    .colab-df-convert {\n",
              "      background-color: #E8F0FE;\n",
              "      border: none;\n",
              "      border-radius: 50%;\n",
              "      cursor: pointer;\n",
              "      display: none;\n",
              "      fill: #1967D2;\n",
              "      height: 32px;\n",
              "      padding: 0 0 0 0;\n",
              "      width: 32px;\n",
              "    }\n",
              "\n",
              "    .colab-df-convert:hover {\n",
              "      background-color: #E2EBFA;\n",
              "      box-shadow: 0px 1px 2px rgba(60, 64, 67, 0.3), 0px 1px 3px 1px rgba(60, 64, 67, 0.15);\n",
              "      fill: #174EA6;\n",
              "    }\n",
              "\n",
              "    .colab-df-buttons div {\n",
              "      margin-bottom: 4px;\n",
              "    }\n",
              "\n",
              "    [theme=dark] .colab-df-convert {\n",
              "      background-color: #3B4455;\n",
              "      fill: #D2E3FC;\n",
              "    }\n",
              "\n",
              "    [theme=dark] .colab-df-convert:hover {\n",
              "      background-color: #434B5C;\n",
              "      box-shadow: 0px 1px 3px 1px rgba(0, 0, 0, 0.15);\n",
              "      filter: drop-shadow(0px 1px 2px rgba(0, 0, 0, 0.3));\n",
              "      fill: #FFFFFF;\n",
              "    }\n",
              "  </style>\n",
              "\n",
              "    <script>\n",
              "      const buttonEl =\n",
              "        document.querySelector('#df-d7d9edf9-fcdc-42bf-a2e9-518d5e01f48a button.colab-df-convert');\n",
              "      buttonEl.style.display =\n",
              "        google.colab.kernel.accessAllowed ? 'block' : 'none';\n",
              "\n",
              "      async function convertToInteractive(key) {\n",
              "        const element = document.querySelector('#df-d7d9edf9-fcdc-42bf-a2e9-518d5e01f48a');\n",
              "        const dataTable =\n",
              "          await google.colab.kernel.invokeFunction('convertToInteractive',\n",
              "                                                    [key], {});\n",
              "        if (!dataTable) return;\n",
              "\n",
              "        const docLinkHtml = 'Like what you see? Visit the ' +\n",
              "          '<a target=\"_blank\" href=https://colab.research.google.com/notebooks/data_table.ipynb>data table notebook</a>'\n",
              "          + ' to learn more about interactive tables.';\n",
              "        element.innerHTML = '';\n",
              "        dataTable['output_type'] = 'display_data';\n",
              "        await google.colab.output.renderOutput(dataTable, element);\n",
              "        const docLink = document.createElement('div');\n",
              "        docLink.innerHTML = docLinkHtml;\n",
              "        element.appendChild(docLink);\n",
              "      }\n",
              "    </script>\n",
              "  </div>\n",
              "\n",
              "\n",
              "<div id=\"df-62b78a90-9a04-4814-846f-2ed887557adb\">\n",
              "  <button class=\"colab-df-quickchart\" onclick=\"quickchart('df-62b78a90-9a04-4814-846f-2ed887557adb')\"\n",
              "            title=\"Suggest charts\"\n",
              "            style=\"display:none;\">\n",
              "\n",
              "<svg xmlns=\"http://www.w3.org/2000/svg\" height=\"24px\"viewBox=\"0 0 24 24\"\n",
              "     width=\"24px\">\n",
              "    <g>\n",
              "        <path d=\"M19 3H5c-1.1 0-2 .9-2 2v14c0 1.1.9 2 2 2h14c1.1 0 2-.9 2-2V5c0-1.1-.9-2-2-2zM9 17H7v-7h2v7zm4 0h-2V7h2v10zm4 0h-2v-4h2v4z\"/>\n",
              "    </g>\n",
              "</svg>\n",
              "  </button>\n",
              "\n",
              "<style>\n",
              "  .colab-df-quickchart {\n",
              "      --bg-color: #E8F0FE;\n",
              "      --fill-color: #1967D2;\n",
              "      --hover-bg-color: #E2EBFA;\n",
              "      --hover-fill-color: #174EA6;\n",
              "      --disabled-fill-color: #AAA;\n",
              "      --disabled-bg-color: #DDD;\n",
              "  }\n",
              "\n",
              "  [theme=dark] .colab-df-quickchart {\n",
              "      --bg-color: #3B4455;\n",
              "      --fill-color: #D2E3FC;\n",
              "      --hover-bg-color: #434B5C;\n",
              "      --hover-fill-color: #FFFFFF;\n",
              "      --disabled-bg-color: #3B4455;\n",
              "      --disabled-fill-color: #666;\n",
              "  }\n",
              "\n",
              "  .colab-df-quickchart {\n",
              "    background-color: var(--bg-color);\n",
              "    border: none;\n",
              "    border-radius: 50%;\n",
              "    cursor: pointer;\n",
              "    display: none;\n",
              "    fill: var(--fill-color);\n",
              "    height: 32px;\n",
              "    padding: 0;\n",
              "    width: 32px;\n",
              "  }\n",
              "\n",
              "  .colab-df-quickchart:hover {\n",
              "    background-color: var(--hover-bg-color);\n",
              "    box-shadow: 0 1px 2px rgba(60, 64, 67, 0.3), 0 1px 3px 1px rgba(60, 64, 67, 0.15);\n",
              "    fill: var(--button-hover-fill-color);\n",
              "  }\n",
              "\n",
              "  .colab-df-quickchart-complete:disabled,\n",
              "  .colab-df-quickchart-complete:disabled:hover {\n",
              "    background-color: var(--disabled-bg-color);\n",
              "    fill: var(--disabled-fill-color);\n",
              "    box-shadow: none;\n",
              "  }\n",
              "\n",
              "  .colab-df-spinner {\n",
              "    border: 2px solid var(--fill-color);\n",
              "    border-color: transparent;\n",
              "    border-bottom-color: var(--fill-color);\n",
              "    animation:\n",
              "      spin 1s steps(1) infinite;\n",
              "  }\n",
              "\n",
              "  @keyframes spin {\n",
              "    0% {\n",
              "      border-color: transparent;\n",
              "      border-bottom-color: var(--fill-color);\n",
              "      border-left-color: var(--fill-color);\n",
              "    }\n",
              "    20% {\n",
              "      border-color: transparent;\n",
              "      border-left-color: var(--fill-color);\n",
              "      border-top-color: var(--fill-color);\n",
              "    }\n",
              "    30% {\n",
              "      border-color: transparent;\n",
              "      border-left-color: var(--fill-color);\n",
              "      border-top-color: var(--fill-color);\n",
              "      border-right-color: var(--fill-color);\n",
              "    }\n",
              "    40% {\n",
              "      border-color: transparent;\n",
              "      border-right-color: var(--fill-color);\n",
              "      border-top-color: var(--fill-color);\n",
              "    }\n",
              "    60% {\n",
              "      border-color: transparent;\n",
              "      border-right-color: var(--fill-color);\n",
              "    }\n",
              "    80% {\n",
              "      border-color: transparent;\n",
              "      border-right-color: var(--fill-color);\n",
              "      border-bottom-color: var(--fill-color);\n",
              "    }\n",
              "    90% {\n",
              "      border-color: transparent;\n",
              "      border-bottom-color: var(--fill-color);\n",
              "    }\n",
              "  }\n",
              "</style>\n",
              "\n",
              "  <script>\n",
              "    async function quickchart(key) {\n",
              "      const quickchartButtonEl =\n",
              "        document.querySelector('#' + key + ' button');\n",
              "      quickchartButtonEl.disabled = true;  // To prevent multiple clicks.\n",
              "      quickchartButtonEl.classList.add('colab-df-spinner');\n",
              "      try {\n",
              "        const charts = await google.colab.kernel.invokeFunction(\n",
              "            'suggestCharts', [key], {});\n",
              "      } catch (error) {\n",
              "        console.error('Error during call to suggestCharts:', error);\n",
              "      }\n",
              "      quickchartButtonEl.classList.remove('colab-df-spinner');\n",
              "      quickchartButtonEl.classList.add('colab-df-quickchart-complete');\n",
              "    }\n",
              "    (() => {\n",
              "      let quickchartButtonEl =\n",
              "        document.querySelector('#df-62b78a90-9a04-4814-846f-2ed887557adb button');\n",
              "      quickchartButtonEl.style.display =\n",
              "        google.colab.kernel.accessAllowed ? 'block' : 'none';\n",
              "    })();\n",
              "  </script>\n",
              "</div>\n",
              "    </div>\n",
              "  </div>\n"
            ]
          },
          "metadata": {},
          "execution_count": 2
        }
      ]
    },
    {
      "cell_type": "code",
      "source": [
        "# path to directory containing training images\n",
        "train_dir = './content/histopathologic_dataset/train/'\n"
      ],
      "metadata": {
        "id": "MUsCR2ap9wTf"
      },
      "execution_count": 3,
      "outputs": []
    },
    {
      "cell_type": "code",
      "source": [
        "# Sample of training images\n",
        "  # includes only the 32x32 region on which the label is based\n",
        "train_head = train_df.head(5)\n",
        "\n",
        "plt.figure(figsize=(15, 3))\n",
        "for i, row in enumerate(train_head.iterrows()):\n",
        "    img_id, label = row[1]\n",
        "    img_path = train_dir + f'{img_id}.tif'\n",
        "    img = Image.open(img_path)\n",
        "    # crop center 32x32\n",
        "    img = img.crop((32, 32, 64, 64))\n",
        "\n",
        "    plt.subplot(1, 5, i + 1)\n",
        "    plt.imshow(img)\n",
        "    if label == 0:\n",
        "        plt.title(\"Non-cancerous\")\n",
        "    else:\n",
        "        plt.title(\"Cancerous\")\n",
        "\n",
        "plt.tight_layout()\n",
        "plt.show()"
      ],
      "metadata": {
        "colab": {
          "base_uri": "https://localhost:8080/",
          "height": 292
        },
        "id": "dsB3ptKTYcKX",
        "outputId": "b261805c-5f73-480e-e580-adc354137ee8"
      },
      "execution_count": 4,
      "outputs": [
        {
          "output_type": "display_data",
          "data": {
            "text/plain": [
              "<Figure size 1500x300 with 5 Axes>"
            ],
            "image/png": "[encoded data removed]"
          },
          "metadata": {}
        }
      ]
    },
    {
      "cell_type": "code",
      "source": [
        "# see distribution of label values in the training data\n",
        "\n",
        "label_count = train_df['label'].value_counts()\n",
        "plt.figure(figsize=(4, 3))\n",
        "label_count.plot(kind='bar')\n",
        "plt.title('Distribution of Labels')\n",
        "plt.xlabel('Label')\n",
        "plt.ylabel('Count')\n",
        "plt.xticks(ticks=[0, 1], labels=['Non-Cancerous (0)', 'Cancerous (1)'], rotation=0)\n",
        "plt.show()"
      ],
      "metadata": {
        "colab": {
          "base_uri": "https://localhost:8080/",
          "height": 333
        },
        "id": "zxMTXKaQXQkD",
        "outputId": "831bc85b-9840-4519-d2bb-002f57e07233"
      },
      "execution_count": 5,
      "outputs": [
        {
          "output_type": "display_data",
          "data": {
            "text/plain": [
              "<Figure size 400x300 with 1 Axes>"
            ],
            "image/png": "[encoded data removed]"
          },
          "metadata": {}
        }
      ]
    },
    {
      "cell_type": "markdown",
      "source": [
        "From the above plot, we can see that there are only values of 0 and 1 (no NULL) for labels in the data. We will assume that the data is clean and no samples should be excluded."
      ],
      "metadata": {
        "id": "7FBeFeOLqSh5"
      }
    },
    {
      "cell_type": "code",
      "source": [
        "c_perc = (label_count[0] / (label_count[0] + label_count[1]))\n",
        "nc_perc = (label_count[1] / (label_count[0] + label_count[1]))\n",
        "ratio = label_count[0] / label_count[1]\n",
        "\n",
        "print(f\"non-cancerous: {label_count[0]}, {c_perc*100:9.2f}%\")\n",
        "print(f\"cancerous: {label_count[1]},  {nc_perc*100:9.2f}%\")\n",
        "print(f\"Class Imbalance: {ratio:9.2f}\")"
      ],
      "metadata": {
        "colab": {
          "base_uri": "https://localhost:8080/"
        },
        "id": "2BOhPQmiaUEy",
        "outputId": "b57ed6f5-b50e-4bed-ac47-46fba25f0268"
      },
      "execution_count": 6,
      "outputs": [
        {
          "output_type": "stream",
          "name": "stdout",
          "text": [
            "non-cancerous: 130908,     59.50%\n",
            "cancerous: 89117,      40.50%\n",
            "Class Imbalance:      1.47\n"
          ]
        }
      ]
    },
    {
      "cell_type": "markdown",
      "source": [
        "From the above plot and ratio, we can see that there is a substantial imbalance between cancerous and non-cancerous images, with almost 1.5 times as many non-cancerous samples as cancerous. In order to address this, non-cancerous images will be undersampled so there are equal amounts of each. This will still leave a substantial amount of data so the tradeoff between data-loss and skew is reasonable."
      ],
      "metadata": {
        "id": "pH2UUHxZlRjR"
      }
    },
    {
      "cell_type": "code",
      "source": [
        "# seperate into cancerous and non-cancerous\n",
        "train_cancer = train_df[train_df['label'] == 1]\n",
        "train_non_cancer = train_df[train_df['label'] == 0]\n",
        "\n",
        "# randomly sample non-cancerous samples to match number of cancerous\n",
        "train_non_cancer_under = train_non_cancer.sample(n=len(train_cancer['label']), random_state = 33)\n",
        "\n",
        "# sanity check\n",
        "print(train_non_cancer_under.shape)\n",
        "print(train_cancer.shape)"
      ],
      "metadata": {
        "colab": {
          "base_uri": "https://localhost:8080/"
        },
        "id": "0URq0cKvl_ws",
        "outputId": "ec0eb5a3-8ca0-49ae-f2e2-163adbfbb582"
      },
      "execution_count": 7,
      "outputs": [
        {
          "output_type": "stream",
          "name": "stdout",
          "text": [
            "(89117, 2)\n",
            "(89117, 2)\n"
          ]
        }
      ]
    },
    {
      "cell_type": "markdown",
      "source": [
        "From the shape of the two data sets, we can see that non-cancerous images have been accurately sampled to match the sample size of cancerous images."
      ],
      "metadata": {
        "id": "LyraTHZ-aEl_"
      }
    },
    {
      "cell_type": "code",
      "source": [
        "# combine cancerous with undersampled non-cancerous to provide new training dataset\n",
        "train_dataset = pd.concat([train_cancer, train_non_cancer_under])\n",
        "\n",
        "# sanity check\n",
        "print(f\"Total number of samples: {len(train_dataset)}\")\n",
        "print(train_dataset['label'].value_counts())"
      ],
      "metadata": {
        "colab": {
          "base_uri": "https://localhost:8080/"
        },
        "id": "YTb4WAZxnquV",
        "outputId": "1ad8c6b4-8b67-4e69-fbed-865eabc84f4f"
      },
      "execution_count": 8,
      "outputs": [
        {
          "output_type": "stream",
          "name": "stdout",
          "text": [
            "Total number of samples: 178234\n",
            "1    89117\n",
            "0    89117\n",
            "Name: label, dtype: int64\n"
          ]
        }
      ]
    },
    {
      "cell_type": "markdown",
      "source": [
        "The above block of code shows us that our training data now contains 178,234 images and labels with an even number of cancerous and non-cancerous."
      ],
      "metadata": {
        "id": "jFOFZgfqaod3"
      }
    },
    {
      "cell_type": "markdown",
      "source": [
        "## **Image Processing Section**\n",
        "\n",
        "Neural Networks perform mathematical operation (multiplication, addition and activation functions), so input data has to be given in numerical form. In order to convert the given image data into a numerical representation suitable for use in CNN's, the 32x32 pixel center of each pixel will be extracted and the corresponding rgb values will be normalized to values between 0 and 1.\n",
        "\n",
        "The resulting data will be (178234, 32, 32, 3) which requires a lot of storage. When converting the image data, I kept running out of compute and crashing the Collab notebook, so I extracted the data into an hdf5 file so that it was stored on disk rather than RAM. This made it so that I didn't have to load the whole of the data at once, and could instead load only the split training and testing data further on. I further saved the data as float32 dtype rather than the conventional float64 as I kept running into issues with the amount of RAM I had access to.  "
      ],
      "metadata": {
        "id": "Qu1YFn9tZSq_"
      }
    },
    {
      "cell_type": "code",
      "source": [
        "###### don't run!! takes a long time ############\n",
        "# check all images are same size\n",
        "    # removes calculations in get_images cropping of center pixels\n",
        "    # only tissue in center 32x32 patch influences label\n",
        "# for path in train_img_paths:\n",
        "    # img = Image.open(path)\n",
        "    # if img.size != (96, 96):\n",
        "      # print(\"not all same size\")\n",
        "      # break"
      ],
      "metadata": {
        "id": "3U6Qpq__N-CA"
      },
      "execution_count": 9,
      "outputs": []
    },
    {
      "cell_type": "code",
      "source": [
        "def save_images_to_hdf5(img_ids, hdf5_path, dataset_name):\n",
        "    '''\n",
        "    Uses the image id's to identify each image file and then saves the processed image data to an hdf5 file (disk storage)\n",
        "        Resize to only include center 32x32 pixels (from 96x96 of original).\n",
        "        Scale pixel values to range between 0 and 1.\n",
        "\n",
        "    Parameters:\n",
        "    img_ids: List of image IDs mapping to image files.\n",
        "    hdf5_path: Path to save the HDF5 file.\n",
        "    dataset_name: Name of the dataset in the HDF5 file.\n",
        "    '''\n",
        "\n",
        "    # Calculate the number of images\n",
        "    num_images = len(img_ids)\n",
        "\n",
        "    # Create a new HDF5 file\n",
        "    with h5py.File(hdf5_path, \"w\") as hf:\n",
        "        # Create a dataset in the file to hold all the images\n",
        "        dataset = hf.create_dataset(f'{dataset_name}', (num_images, 32, 32, 3), np.float32)\n",
        "\n",
        "        for i, img_id in enumerate(img_ids):\n",
        "            img_path = os.path.join(train_dir, img_id + '.tif')\n",
        "            img = Image.open(img_path)\n",
        "\n",
        "            # Crop center 32 pixels\n",
        "            img = img.crop((32, 32, 64, 64))  # left, upper, right, lower pixel coordinates\n",
        "\n",
        "            # normalize rgb values\n",
        "            img_arr = np.array(img) / 255.0\n",
        "\n",
        "            # store the image in the dataset\n",
        "            dataset[i, ...] = img_arr\n",
        "\n"
      ],
      "metadata": {
        "id": "mSjow8uDHfh2"
      },
      "execution_count": 10,
      "outputs": []
    },
    {
      "cell_type": "code",
      "source": [
        "def load_images_from_hdf5(hdf5_path, dataset_name, indices):\n",
        "    '''\n",
        "    Load images from an HDF5 file based on indice.\n",
        "        Indices will be needed later on to identify image arrays based on train/test split\n",
        "\n",
        "    Parameters:\n",
        "    hdf5_path: Path to the hdf5 file.\n",
        "    dataset_name: Name of the dataset in the hdf5 file.\n",
        "    indices: list of indices to extract from hdf5\n",
        "\n",
        "    '''\n",
        "    with h5py.File(hdf5_path, \"r\") as hf:\n",
        "        images = np.empty((len(indices), 32, 32, 3))\n",
        "        for i, idx in enumerate(indices):\n",
        "            images[i] = hf[dataset_name][idx]\n",
        "\n",
        "    return images"
      ],
      "metadata": {
        "id": "I5fewocSH5Nn"
      },
      "execution_count": 11,
      "outputs": []
    },
    {
      "cell_type": "code",
      "source": [
        "# get the path to each of the images in the balanced dataset\n",
        "train_ids = train_dataset['id'].values"
      ],
      "metadata": {
        "id": "meL67fsTr-eK"
      },
      "execution_count": 12,
      "outputs": []
    },
    {
      "cell_type": "code",
      "source": [
        "# only have to run once to save hdf5 file\n",
        "# save_images_to_hdf5(train_ids, './content/training_images.h5', 'processed_images')\n",
        "# 4m 12s"
      ],
      "metadata": {
        "id": "e7IW1z2OIcJ6"
      },
      "execution_count": 35,
      "outputs": []
    },
    {
      "cell_type": "markdown",
      "source": [
        "To get images, use:\n",
        "- load_images_from_hdf5('./content/training_images.h5', 'processed_images', indices)\n",
        "\n",
        "This will be used to get the training and testing images by their indice after train_test_split has been used. Avoids having to load the whole dataset into memory on top of the training and testing datasets."
      ],
      "metadata": {
        "id": "UWHiduEJXaTV"
      }
    },
    {
      "cell_type": "markdown",
      "source": [
        "# **Model Architecture**\n",
        "\n",
        "The architecture for my model will be a linear stack of layers made using Keras Sequential model. This allows you to add layers layer-by-layer to the model. The model will be relatively simple with 7 total layers.\n",
        "\n",
        "**Convolutional Layers** <br>\n",
        "Convolutional layers are used to extract features from the input data. The first convolutional layer directly processes the raw input image (input_shape = (32, 32, 3)) and extracts and learns simple features within the image including things like vertical edges, horizontal edges, textures, etc. The second convolutional layer works on the features extracted by the first conv layer in order to detect higher-level features like shapes and patterns. The larger number of filters in this layer allows the network to learn more of these more complex features.\n",
        "\n",
        "**MaxPooling Layers** <br>\n",
        "Max Pooling layers are used to reduce the dimensions of the input volume (feature maps from convolutional layers in this case) . They take the max value over a window (2,2) in order to bring out features and remove less informative details. This decreases the the computational load for the network and reduces the number of parameters in the model which helps prevent overfitting.\n",
        "\n",
        "**Flatten Layer**<br>\n",
        "The flatten layer is used to transform the multidimensional output of the previous layer to a 1D array. This is necessary because the next layer is a Dense layer which requires an 1D input.\n",
        "\n",
        "**Dense Layer**<br>\n",
        "Dense layers are fully connected layers which means that each neuron in this layer recieves input from all the neurons in the previous (flattened) layer. This acts to combine features extracted in earlier layers in order to recognize more complex layers. The final layer in the model is a dense layer with a single neuron which (along with the sigmoid activation function) condenses the models learning down into a probability.\n",
        "\n",
        "\n",
        "**Activation Functions**\n",
        "- **Relu**<br>\n",
        "  - f(x) = max(0, x)\n",
        "  - This is a linear function that outputs the input directly if it is positive and otherwise outputs 0.\n",
        "  - Computationally efficient\n",
        "\n",
        "- **Sigmoid** <br>\n",
        "  - f(x) = 1 / (1 + exp(-x))\n",
        "  - This outputs a value between 0 and 1 which makes it ideal for binary classification.\n",
        "  - This is used in the final dense layer to condense all the models previous learning down into a number between 0 and 1 which is taken to correspond to a probability.\n",
        "\n",
        "  <br>\n",
        "  <br>\n",
        "  Split the data into training and testing"
      ],
      "metadata": {
        "id": "QCpY5w1egfQI"
      }
    },
    {
      "cell_type": "code",
      "source": [
        "# get just the pos/neg labels from train_df\n",
        "train_labels = train_dataset['label'].values"
      ],
      "metadata": {
        "id": "kXJTXbskxynb"
      },
      "execution_count": 13,
      "outputs": []
    },
    {
      "cell_type": "code",
      "source": [
        "# sanity check\n",
        "print(train_labels.shape)\n",
        "print(type(train_labels))"
      ],
      "metadata": {
        "colab": {
          "base_uri": "https://localhost:8080/"
        },
        "id": "hhHy7Wcyufsz",
        "outputId": "ece1b166-bf58-4e50-9914-c4f2821d8874"
      },
      "execution_count": 14,
      "outputs": [
        {
          "output_type": "stream",
          "name": "stdout",
          "text": [
            "(178234,)\n",
            "<class 'numpy.ndarray'>\n"
          ]
        }
      ]
    },
    {
      "cell_type": "code",
      "source": [
        "# seperate data into training and validation\n",
        "training_indices, testing_indices, training_labels, testing_labels = train_test_split(\n",
        "    range(len(train_labels)),\n",
        "    train_labels,\n",
        "    test_size = 0.2,\n",
        "    random_state = 33\n",
        ")"
      ],
      "metadata": {
        "id": "NTCbpFlluClk"
      },
      "execution_count": 15,
      "outputs": []
    },
    {
      "cell_type": "markdown",
      "source": [
        "A list corresponding to indices is used as the feature vector to split in the above train_test_split function, as that will allow us to extract the image data directly from our hdf5 file."
      ],
      "metadata": {
        "id": "2Q5X1zEPmZwt"
      }
    },
    {
      "cell_type": "code",
      "source": [
        "training_images = load_images_from_hdf5('./content/training_images.h5', 'processed_images', training_indices)\n",
        "testing_images = load_images_from_hdf5('./content/training_images.h5', 'processed_images', testing_indices)\n",
        "\n",
        "# (54s)\n",
        "# 4 GB RAM\n",
        "# garbage collect these after model is trained on them to save up RAM"
      ],
      "metadata": {
        "id": "C24xhIClyg6R"
      },
      "execution_count": 16,
      "outputs": []
    },
    {
      "cell_type": "code",
      "source": [
        "# sanity check\n",
        "print(training_images.shape)\n",
        "print(testing_images.shape)\n",
        "print(training_labels.shape)\n",
        "print(testing_labels.shape)"
      ],
      "metadata": {
        "colab": {
          "base_uri": "https://localhost:8080/"
        },
        "id": "YtyXiy6KU7Ns",
        "outputId": "6f2e651d-2df3-4d77-9265-fb95ca5d0b2b"
      },
      "execution_count": 17,
      "outputs": [
        {
          "output_type": "stream",
          "name": "stdout",
          "text": [
            "(142587, 32, 32, 3)\n",
            "(35647, 32, 32, 3)\n",
            "(142587,)\n",
            "(35647,)\n"
          ]
        }
      ]
    },
    {
      "cell_type": "markdown",
      "source": [
        "The above block shows that our training and testing images are the correct size and that their labels match them in size."
      ],
      "metadata": {
        "id": "QyBnKv-Pm4Tm"
      }
    },
    {
      "cell_type": "markdown",
      "source": [
        "## **Model**\n",
        "\n",
        "\n",
        "\n"
      ],
      "metadata": {
        "id": "4Ae_6qU5CVq_"
      }
    },
    {
      "cell_type": "code",
      "source": [
        "model = Sequential([\n",
        "    Conv2D(32, (3, 3), activation='relu', input_shape=(32, 32, 3)),\n",
        "    MaxPooling2D((2, 2)), # pooling in between conv layers consolidates extracted features\n",
        "    Conv2D(64, (3, 3), activation='relu'), # more filters alows for more complex patterns to be extracted than in first layer\n",
        "    MaxPooling2D((2, 2)),\n",
        "    Flatten(),\n",
        "    Dense(64, activation='relu'),\n",
        "    Dense(1, activation='sigmoid')\n",
        "])\n",
        "\n",
        "model.summary()"
      ],
      "metadata": {
        "id": "rDnfUhC4azTU"
      },
      "execution_count": null,
      "outputs": []
    },
    {
      "cell_type": "code",
      "source": [
        "# optimizer is responsible for adjusting the weights of the network during training to minimize loss function\n",
        "# binary_crossentropy is used as the loss function and measures the 'distance' between the predicted P and the actual labels\n",
        "# use accuracy metric to evaluate training\n",
        "model.compile(optimizer=Adam(),\n",
        "              loss='binary_crossentropy',\n",
        "              metrics=['accuracy'])"
      ],
      "metadata": {
        "id": "j3rjhQCyBAaS"
      },
      "execution_count": 19,
      "outputs": []
    },
    {
      "cell_type": "code",
      "source": [
        "history = model.fit(training_images, training_labels, epochs=10,\n",
        "                    validation_data=(testing_images, testing_labels))"
      ],
      "metadata": {
        "colab": {
          "base_uri": "https://localhost:8080/"
        },
        "id": "NSGBOIiqDwgV",
        "outputId": "086bc0e5-a7ef-412a-c95e-b4b55a23eac4"
      },
      "execution_count": 20,
      "outputs": [
        {
          "output_type": "stream",
          "name": "stdout",
          "text": [
            "Epoch 1/10\n",
            "4456/4456 [==============================] - 117s 26ms/step - loss: 0.5079 - accuracy: 0.7584 - val_loss: 0.4816 - val_accuracy: 0.7787\n",
            "Epoch 2/10\n",
            "4456/4456 [==============================] - 110s 25ms/step - loss: 0.4682 - accuracy: 0.7839 - val_loss: 0.4519 - val_accuracy: 0.7929\n",
            "Epoch 3/10\n",
            "4456/4456 [==============================] - 113s 25ms/step - loss: 0.4515 - accuracy: 0.7936 - val_loss: 0.4767 - val_accuracy: 0.7811\n",
            "Epoch 4/10\n",
            "4456/4456 [==============================] - 112s 25ms/step - loss: 0.4400 - accuracy: 0.8007 - val_loss: 0.4379 - val_accuracy: 0.8002\n",
            "Epoch 5/10\n",
            "4456/4456 [==============================] - 110s 25ms/step - loss: 0.4294 - accuracy: 0.8060 - val_loss: 0.4657 - val_accuracy: 0.7824\n",
            "Epoch 6/10\n",
            "4456/4456 [==============================] - 117s 26ms/step - loss: 0.4212 - accuracy: 0.8090 - val_loss: 0.4289 - val_accuracy: 0.8065\n",
            "Epoch 7/10\n",
            "4456/4456 [==============================] - 114s 26ms/step - loss: 0.4150 - accuracy: 0.8131 - val_loss: 0.4303 - val_accuracy: 0.8064\n",
            "Epoch 8/10\n",
            "4456/4456 [==============================] - 114s 26ms/step - loss: 0.4069 - accuracy: 0.8162 - val_loss: 0.4230 - val_accuracy: 0.8100\n",
            "Epoch 9/10\n",
            "4456/4456 [==============================] - 112s 25ms/step - loss: 0.3995 - accuracy: 0.8205 - val_loss: 0.4347 - val_accuracy: 0.8024\n",
            "Epoch 10/10\n",
            "4456/4456 [==============================] - 112s 25ms/step - loss: 0.3916 - accuracy: 0.8232 - val_loss: 0.4241 - val_accuracy: 0.8081\n"
          ]
        }
      ]
    },
    {
      "cell_type": "markdown",
      "source": [
        "(18m 2s)"
      ],
      "metadata": {
        "id": "5jD6f_khbGLE"
      }
    },
    {
      "cell_type": "markdown",
      "source": [
        "## **Model Results**\n",
        "\n",
        "The previous method (history=model.fit) returns a history object which contains data about the training process through each epoch. Our object records the training and validation loss which can be plotted to check for overfitting. It also records accuracy (defined when compiling model) which can be plotted to show how the model prediction improves across epohs."
      ],
      "metadata": {
        "id": "B2GKmdKOG5Sd"
      }
    },
    {
      "cell_type": "code",
      "source": [
        "# Extracting loss, training accuracy, and validation accuracy from the history object\n",
        "loss = history.history['loss']\n",
        "val_loss = history.history['val_loss']\n",
        "accuracy = history.history['accuracy']\n",
        "val_accuracy = history.history['val_accuracy']\n",
        "epochs = range(1, len(loss) + 1)"
      ],
      "metadata": {
        "id": "Ogh0d7i8D0hd"
      },
      "execution_count": 21,
      "outputs": []
    },
    {
      "cell_type": "code",
      "source": [
        "# Plot loss\n",
        "plt.figure(figsize=(12, 5))\n",
        "\n",
        "plt.subplot(1, 2, 1)\n",
        "plt.plot(epochs, loss, 'bo-', label='Training Loss')\n",
        "plt.plot(epochs, val_loss, 'ro-', label='Validation Loss')\n",
        "plt.title('Loss')\n",
        "plt.xlabel('Epoch')\n",
        "plt.ylabel('Loss')\n",
        "plt.legend()\n",
        "\n",
        "# Plot accuracy\n",
        "plt.subplot(1, 2, 2)\n",
        "plt.plot(epochs, accuracy, 'bo-', label='Training Accuracy')\n",
        "plt.plot(epochs, val_accuracy, 'ro-', label='Validation Accuracy')\n",
        "plt.title('Accuracy')\n",
        "plt.xlabel('Epoch')\n",
        "plt.ylabel('Accuracy')\n",
        "plt.legend()\n",
        "\n",
        "plt.tight_layout()\n",
        "plt.show()"
      ],
      "metadata": {
        "colab": {
          "base_uri": "https://localhost:8080/",
          "height": 507
        },
        "id": "tZoefQu1G_QV",
        "outputId": "ad62717b-caa5-414e-c6bf-9614e74d797a"
      },
      "execution_count": 58,
      "outputs": [
        {
          "output_type": "display_data",
          "data": {
            "text/plain": [
              "<Figure size 1200x500 with 2 Axes>"
            ],
            "image/png": "[encoded data removed]"
          },
          "metadata": {}
        }
      ]
    },
    {
      "cell_type": "markdown",
      "source": [
        "The graph on the left shows the loss during the models training. The training loss (blue) is decreasing consistently which indicates that the model is learning. The validation loss (red) is less smooth which shows that the models performance on unseen data is inconsistent.\n",
        "\n",
        "The graph on the right shows the accuracy (percentage of correct predictions in the training set) of the models training across epochs. The training accuracy (blue) has a smooth upward trend which shows that the model is improving at classifying the training data. The validation accuracy (red) shows a general upward trend, but with significant variability which indicates that the model isn't improving on unseen data as consistently.\n",
        "\n",
        "Overall the model doesn't seem to indicate overfitting yet, as the validation loss is generally decreasing and and the validation accuracy is generally increasing (although with significant fluctuations indicating poor classifying performance). Overfitting would be indicated if the validation losss started to increase as the training loss continued to decrease which doesn't seem to be happening (although the validation loss does seem to be leveling out in the further epochs)."
      ],
      "metadata": {
        "id": "H_3Fu6XbqTmw"
      }
    },
    {
      "cell_type": "markdown",
      "source": [
        "## **Model Classification on Test images**"
      ],
      "metadata": {
        "id": "ulYc4RZbtVej"
      }
    },
    {
      "cell_type": "code",
      "source": [
        "# Training complete. clean up space in RAM\n",
        "import gc\n",
        "\n",
        "del training_images\n",
        "del testing_images\n",
        "\n",
        "gc.collect()"
      ],
      "metadata": {
        "id": "W6rP2CyNHCjv",
        "colab": {
          "base_uri": "https://localhost:8080/"
        },
        "outputId": "cabf50ca-fdec-4f06-a96e-0d5d21244344"
      },
      "execution_count": 26,
      "outputs": [
        {
          "output_type": "execute_result",
          "data": {
            "text/plain": [
              "11803"
            ]
          },
          "metadata": {},
          "execution_count": 26
        }
      ]
    },
    {
      "cell_type": "code",
      "source": [
        "del train_cancer\n",
        "del train_dataset\n",
        "del train_df\n",
        "del train_dir\n",
        "del train_head\n",
        "del train_ids\n",
        "del train_labels\n",
        "del train_non_cancer\n",
        "del train_non_cancer_under\n",
        "del train_test_split\n",
        "\n",
        "gc.collect()"
      ],
      "metadata": {
        "colab": {
          "base_uri": "https://localhost:8080/"
        },
        "id": "BdFcRuDmfsyD",
        "outputId": "8d19d4ec-6096-47c6-bf72-b846a86a64e0"
      },
      "execution_count": 29,
      "outputs": [
        {
          "output_type": "execute_result",
          "data": {
            "text/plain": [
              "768"
            ]
          },
          "metadata": {},
          "execution_count": 29
        }
      ]
    },
    {
      "cell_type": "code",
      "source": [
        "def save_test_images_to_hdf5(test_dir, hdf5_path, dataset_name):\n",
        "    '''\n",
        "    Save image data from all of the images in training folder to an HDF5 file.\n",
        "    Resize to only include center 32x32 pixels (from 96x96 of original).\n",
        "    Scale pixel values to range between 0 and 1.\n",
        "\n",
        "    Parameters:\n",
        "    test_dir: path to directory containing testing images\n",
        "    hdf5_path: Path to save the HDF5 file.\n",
        "    dataset_name: Name of the dataset in the HDF5 file.\n",
        "    '''\n",
        "\n",
        "    with h5py.File(hdf5_path, 'w') as hf:\n",
        "      # get images from test directory\n",
        "      img_files = [image for image in os.listdir(test_dir) if image.endswith('.tif')]\n",
        "\n",
        "      dataset = hf.create_dataset(f'{dataset_name}', (len(img_files), 32, 32, 3), np.float32)\n",
        "\n",
        "      for i, file in enumerate(img_files):\n",
        "        img_path = os.path.join(test_dir, file)\n",
        "        img = Image.open(img_path)\n",
        "\n",
        "      # crop center 32x32 pixels\n",
        "      img = img.crop((32, 32, 64, 64))\n",
        "\n",
        "      # normalize\n",
        "      img_arr = np.array(img) / 255.0\n",
        "\n",
        "      # store image in dataset\n",
        "      dataset[i, ...] = img_arr"
      ],
      "metadata": {
        "id": "bb9tGP-qcMrO"
      },
      "execution_count": 27,
      "outputs": []
    },
    {
      "cell_type": "code",
      "source": [
        "def load_test_images_from_hdf5(hdf5_path, dataset_name):\n",
        "    '''\n",
        "    Load images from an HDF5 file based on indice.\n",
        "\n",
        "    Parameters:\n",
        "    hdf5_path: Path to the hdf5 file.\n",
        "    dataset_name: Name of the dataset in the hdf5 file.\n",
        "    indices: list of indices to extract from hdf5\n",
        "\n",
        "    '''\n",
        "    with h5py.File(hdf5_path, \"r\") as hf:\n",
        "\n",
        "        images = hf[dataset_name][:]\n",
        "\n",
        "    return images"
      ],
      "metadata": {
        "id": "0QcMVZXughlc"
      },
      "execution_count": 38,
      "outputs": []
    },
    {
      "cell_type": "code",
      "source": [
        "test_dir = './content/histopathologic_dataset/test'\n",
        "\n",
        "# save hdf5 file --> only need to run once\n",
        "# save_images_to_hdf5(train_ids, './content/training_images.h5', 'processed_images')\n",
        "# save_test_images_to_hdf5(test_dir, './content/testing_images.h5', 'processed_images')\n",
        "# (1m 2s)"
      ],
      "metadata": {
        "id": "auw8N4wvfAvB"
      },
      "execution_count": 28,
      "outputs": []
    },
    {
      "cell_type": "code",
      "source": [
        "test_images = load_test_images_from_hdf5('./content/testing_images.h5', 'processed_images')"
      ],
      "metadata": {
        "id": "I4EdUr7Zgg6d"
      },
      "execution_count": 39,
      "outputs": []
    },
    {
      "cell_type": "code",
      "source": [
        "test_images.shape"
      ],
      "metadata": {
        "colab": {
          "base_uri": "https://localhost:8080/"
        },
        "id": "0sOqrcTefifu",
        "outputId": "cc0cdf09-ece8-44cd-d7e7-ded91b5ff9a4"
      },
      "execution_count": 40,
      "outputs": [
        {
          "output_type": "execute_result",
          "data": {
            "text/plain": [
              "(57458, 32, 32, 3)"
            ]
          },
          "metadata": {},
          "execution_count": 40
        }
      ]
    },
    {
      "cell_type": "code",
      "source": [
        "# label prediction on test images\n",
        "predictions = model.predict(test_images)"
      ],
      "metadata": {
        "colab": {
          "base_uri": "https://localhost:8080/"
        },
        "id": "tSQJhMuPiuxi",
        "outputId": "75f252c8-a9f8-4333-e8b1-ee04ed99c659"
      },
      "execution_count": 43,
      "outputs": [
        {
          "output_type": "stream",
          "name": "stdout",
          "text": [
            "1796/1796 [==============================] - 16s 9ms/step\n"
          ]
        }
      ]
    },
    {
      "cell_type": "code",
      "source": [
        "# convert the prediction to binary 0 or 1 to map to non-cancerous or cancerous respectively\n",
        "# the models predictions will be between 0 and 1 (due to final sigmoid layer) corresponding to probabilities\n",
        "# convert predictions to true/flase binary\n",
        "tf_predictions = (predictions > 0.5).astype(int).flatten()"
      ],
      "metadata": {
        "id": "tGleH1N1kAu2"
      },
      "execution_count": 48,
      "outputs": []
    },
    {
      "cell_type": "code",
      "source": [
        "# extract image IDs for uploading to kaggle\n",
        "test_img_ids = [os.path.splitext(file)[0] for file in os.listdir(test_dir) if file.endswith('.tif')]"
      ],
      "metadata": {
        "id": "t_Um2iC9kCIn"
      },
      "execution_count": 50,
      "outputs": []
    },
    {
      "cell_type": "code",
      "source": [
        "# sanity check. images correspond to predictions\n",
        "print(len(test_img_ids))\n",
        "print(len(predictions))"
      ],
      "metadata": {
        "colab": {
          "base_uri": "https://localhost:8080/"
        },
        "id": "Rm6Od9vUkRzR",
        "outputId": "8555ecb6-ba63-4e22-8094-45f411b2b8ae"
      },
      "execution_count": 56,
      "outputs": [
        {
          "output_type": "stream",
          "name": "stdout",
          "text": [
            "57458\n",
            "57458\n"
          ]
        }
      ]
    },
    {
      "cell_type": "code",
      "source": [
        "# put test predictions into correct format (id, label)\n",
        "final = pd.DataFrame({\n",
        "    'id': test_img_ids,\n",
        "    'label': tf_predictions\n",
        "})"
      ],
      "metadata": {
        "id": "APx7GgpwlCxW"
      },
      "execution_count": 53,
      "outputs": []
    },
    {
      "cell_type": "code",
      "source": [
        "# save final results to .csv\n",
        "final.to_csv('/content/model_results.csv', index=False)"
      ],
      "metadata": {
        "id": "_Sx3n2v4l2xG"
      },
      "execution_count": 54,
      "outputs": []
    },
    {
      "cell_type": "markdown",
      "source": [
        "# Results and Analysis\n",
        "\n"
      ],
      "metadata": {
        "id": "SFdkwop5p0sE"
      }
    },
    {
      "cell_type": "markdown",
      "source": [
        "![image.png](data:image/png;base64,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)"
      ],
      "metadata": {
        "id": "BiDS2yEqnnmp"
      }
    },
    {
      "cell_type": "code",
      "source": [
        "vals, counts = np.unique(predictions, return_counts=True)\n",
        "print(vals, counts)"
      ],
      "metadata": {
        "colab": {
          "base_uri": "https://localhost:8080/"
        },
        "id": "MFPyIJotoJ0m",
        "outputId": "06da9dcd-4dfb-4d50-e3df-6fb50f6dbd71"
      },
      "execution_count": 69,
      "outputs": [
        {
          "output_type": "stream",
          "name": "stdout",
          "text": [
            "[0.04668562 0.20115809 0.20115814] [    1  3590 53867]\n"
          ]
        }
      ]
    },
    {
      "cell_type": "markdown",
      "source": [
        "Results from the submission of the model can be seen above. From the score of 0.5, we can see that something went wrong with the model. From looking at the values of the predictions in the following block, we can see that our model predicted every image as having a probability less than .5. When these probabilites are converted to binary classification (0 if < .5 and 1 if > .5), the result is that our model predicts that each image is non-cancerous. From the results of the kaggle submission, we can see that the model is tested on an even split of images and so every cancer containing image was miss-classified as being non-cancerous. This is the case even with undersampling of the non-cancerous images, the inclusion of which would likely have made our model predict even lower probabilities.\n",
        "\n",
        "In general this indicates that our model is effectively useless in this classification task. The variability in the validation loss and accuracy during training shows that this is likely due to the structure of our model, perhaps as a result of it's simplicity. Even after undersampling the non-cancerous images, the size of the training dataset was still large so it is unlikely that the models poor performance was due to lack of sufficient data. By not including padding in our image data, the reduction of the size of feature maps in each layer due to convolution and pooling could have meant that our feature map became too small to be passed on to further layers. This would lead to loss of information and posssibly an inability to use further layers although this is unlikely as our model still improved through each epoch."
      ],
      "metadata": {
        "id": "1AfUAT2RpCaD"
      }
    },
    {
      "cell_type": "markdown",
      "source": [
        "**Possible Improvements**\n",
        "\n",
        "As mentioned above, adding padding (0s) during image processing could have improved our models ability to pick up spatial features. With the compute limit I had and the frequent crashes, I was wary of increasing the size of that data set though, so this was not implemented.\n",
        "\n",
        "An improvement that likely would have increased the models performance was increasing the depth of layers. These images are complex, so adding convolutional layers could help the model learn more complex patterns, although it could also lead to overfitting. Due to time constraints, I didn't have a chance to add more layers to the model. Something I would like to try in the future is to build multiple models each with a different number of convolutional layers and perhaps kernals as well as kernal size to see if an optimal model configuration could be found.\n",
        "\n",
        "Another improvement that could have been implemented is using a different activation function such as ELU. It is possible that my model was influenced by the dying ReLu problem so that the an input to a neuron always resulted in the same output. The small number of predicted probabilities (3) could indicate that this happened (?) and so the output was only influence by some small number of inputs. Using a different activation function could help with this problem but we are once again limited by the limited compute in the Collab environment.\n",
        "\n"
      ],
      "metadata": {
        "id": "cHX71g8PpyRK"
      }
    },
    {
      "cell_type": "markdown",
      "source": [
        "**Conclusion**<br>\n",
        "Although my model was essentially useless in this classification task, the possibilities for further improvements means that this model could be used to learn the effects of each improvement. This model was incredibly simple as far as CNNs go, so it provides a good foundation from which to learn how each aspect of improving a model impacts the CNN as a whole.\n",
        "\n",
        "While the end result of my model was dissapointing, I learned more in this project than I expected and more than I have from many other assignements. This was my first foray into using tensorflow, using google.colabs and working with CNNs. Even setting up the environment the environment and downloading the data using Kaggles API caused a lot of problems, but also taught me a lot in struggling with them. I frequently reached the limits of available computing but learned a method for storing data on the disk rather than in RAM (hdf5).\n",
        "Setting up the model and working to understand each aspect of it gave me a solid foundation to improve my machine learning capabilities and to work on more complex and autonomous ML problems."
      ],
      "metadata": {
        "id": "CMLW1gX71VLG"
      }
    },
    {
      "cell_type": "markdown",
      "source": [
        "**References**<br>\n",
        "https://github.com/CameronStockton/histopathologic-cancer-detection"
      ],
      "metadata": {
        "id": "lQv7hy-M5ZoR"
      }
    },
    {
      "cell_type": "code",
      "source": [],
      "metadata": {
        "id": "PVWK-2Yp5eQX"
      },
      "execution_count": null,
      "outputs": []
    }
  ]
}